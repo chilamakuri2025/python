{
 "cells": [
  {
   "cell_type": "code",
   "execution_count": 1,
   "id": "89ad10b7-e6eb-4b87-ba16-03818156909a",
   "metadata": {},
   "outputs": [],
   "source": [
    "###tuples"
   ]
  },
  {
   "cell_type": "code",
   "execution_count": 3,
   "id": "a38ea1e3-12f2-4c68-a3af-0cad27ee06ab",
   "metadata": {},
   "outputs": [
    {
     "data": {
      "text/plain": [
       "list"
      ]
     },
     "execution_count": 3,
     "metadata": {},
     "output_type": "execute_result"
    }
   ],
   "source": [
    "x=[]\n",
    "type(x)"
   ]
  },
  {
   "cell_type": "code",
   "execution_count": 4,
   "id": "9ab232e9-fbfd-4bd5-9b0b-4187548d6baf",
   "metadata": {},
   "outputs": [
    {
     "data": {
      "text/plain": [
       "tuple"
      ]
     },
     "execution_count": 4,
     "metadata": {},
     "output_type": "execute_result"
    }
   ],
   "source": [
    "x=()\n",
    "type(x)"
   ]
  },
  {
   "cell_type": "code",
   "execution_count": 5,
   "id": "40cb6c6a-6418-4360-8df3-3769f351efe1",
   "metadata": {},
   "outputs": [],
   "source": [
    "x=(1,2,3,4) # tuple"
   ]
  },
  {
   "cell_type": "code",
   "execution_count": 6,
   "id": "0db18c15-3d0a-4977-bb74-82cb70a9f1e6",
   "metadata": {},
   "outputs": [],
   "source": [
    "y=[1,2,3,4]  #list"
   ]
  },
  {
   "cell_type": "code",
   "execution_count": 8,
   "id": "40a27952-3a4c-472b-a505-3b5af911aebe",
   "metadata": {},
   "outputs": [
    {
     "ename": "SyntaxError",
     "evalue": "cannot assign to function call here. Maybe you meant '==' instead of '='? (1192344163.py, line 1)",
     "output_type": "error",
     "traceback": [
      "  \u001b[36mCell\u001b[39m\u001b[36m \u001b[39m\u001b[32mIn[8]\u001b[39m\u001b[32m, line 1\u001b[39m\n\u001b[31m    \u001b[39m\u001b[31mX(1)=11  # tuple can't allow to modify\u001b[39m\n    ^\n\u001b[31mSyntaxError\u001b[39m\u001b[31m:\u001b[39m cannot assign to function call here. Maybe you meant '==' instead of '='?\n"
     ]
    }
   ],
   "source": [
    "X(1)=11  # tuple can't allow to modify"
   ]
  },
  {
   "cell_type": "code",
   "execution_count": 10,
   "id": "3a8ca519-f3b4-4b9c-8308-4a2df090e947",
   "metadata": {},
   "outputs": [],
   "source": [
    "y[1]=33 = list will allow us to do modification"
   ]
  },
  {
   "cell_type": "code",
   "execution_count": 11,
   "id": "da0bca9c-df41-41d7-bcbc-46b54c4bc106",
   "metadata": {},
   "outputs": [
    {
     "data": {
      "text/plain": [
       "[1, 33, 3, 4]"
      ]
     },
     "execution_count": 11,
     "metadata": {},
     "output_type": "execute_result"
    }
   ],
   "source": [
    "y"
   ]
  },
  {
   "cell_type": "code",
   "execution_count": 13,
   "id": "cd1cfc15-43b7-4136-a51f-3a4dfe3e09f1",
   "metadata": {},
   "outputs": [],
   "source": [
    "#mutabilty: list is mutable. tuple is not mutable\n",
    "#list is dynamic tuple is static\n",
    "#list change the data, tuple:statics and global data"
   ]
  },
  {
   "cell_type": "code",
   "execution_count": 14,
   "id": "269a08c3-e34b-4b85-8b61-a647f091b7ac",
   "metadata": {},
   "outputs": [],
   "source": [
    "#tuple has only two functions. those are count and index"
   ]
  },
  {
   "cell_type": "code",
   "execution_count": 24,
   "id": "2e1c5f35-a609-4f53-8853-b107b1294d0c",
   "metadata": {},
   "outputs": [
    {
     "data": {
      "text/plain": [
       "1"
      ]
     },
     "execution_count": 24,
     "metadata": {},
     "output_type": "execute_result"
    }
   ],
   "source": [
    "x.count(4)"
   ]
  },
  {
   "cell_type": "code",
   "execution_count": 17,
   "id": "27f5551d-26ee-4df5-a683-619fda4e7874",
   "metadata": {},
   "outputs": [
    {
     "data": {
      "text/plain": [
       "2"
      ]
     },
     "execution_count": 17,
     "metadata": {},
     "output_type": "execute_result"
    }
   ],
   "source": [
    "x.index(3)"
   ]
  },
  {
   "cell_type": "code",
   "execution_count": 18,
   "id": "25b4e479-fe03-4e15-be58-b404158fe72a",
   "metadata": {},
   "outputs": [
    {
     "data": {
      "text/plain": [
       "(1, 2, 3, 4)"
      ]
     },
     "execution_count": 18,
     "metadata": {},
     "output_type": "execute_result"
    }
   ],
   "source": [
    "x"
   ]
  },
  {
   "cell_type": "code",
   "execution_count": 26,
   "id": "d9bfdbc7-919c-4cc4-91c1-c3bbb5abcd86",
   "metadata": {},
   "outputs": [],
   "source": [
    "x=(1,1,1,(2,2,2))"
   ]
  },
  {
   "cell_type": "code",
   "execution_count": 27,
   "id": "b874a117-a33b-471b-bd69-f1b560a55e67",
   "metadata": {},
   "outputs": [
    {
     "data": {
      "text/plain": [
       "(2, 2, 2)"
      ]
     },
     "execution_count": 27,
     "metadata": {},
     "output_type": "execute_result"
    }
   ],
   "source": [
    "x[-1]"
   ]
  },
  {
   "cell_type": "code",
   "execution_count": 28,
   "id": "b25adad6-7309-4a1a-92c0-78369c5977ff",
   "metadata": {},
   "outputs": [
    {
     "data": {
      "text/plain": [
       "2"
      ]
     },
     "execution_count": 28,
     "metadata": {},
     "output_type": "execute_result"
    }
   ],
   "source": [
    "x[-1][-1]"
   ]
  },
  {
   "cell_type": "code",
   "execution_count": 29,
   "id": "7f71bfd2-3e82-4275-b495-c3e00f1c32dc",
   "metadata": {},
   "outputs": [],
   "source": [
    "x=(1,2,3,'data')"
   ]
  },
  {
   "cell_type": "code",
   "execution_count": 30,
   "id": "e0af3673-9948-4fdf-a22c-85e82ccf27db",
   "metadata": {},
   "outputs": [
    {
     "data": {
      "text/plain": [
       "'data'"
      ]
     },
     "execution_count": 30,
     "metadata": {},
     "output_type": "execute_result"
    }
   ],
   "source": [
    "x[3]"
   ]
  },
  {
   "cell_type": "code",
   "execution_count": 31,
   "id": "4fb0c070-68d3-487f-a8c0-85518515ed4d",
   "metadata": {},
   "outputs": [
    {
     "data": {
      "text/plain": [
       "tuple"
      ]
     },
     "execution_count": 31,
     "metadata": {},
     "output_type": "execute_result"
    }
   ],
   "source": [
    "type(x)"
   ]
  },
  {
   "cell_type": "code",
   "execution_count": 32,
   "id": "9ff6c309-fb30-489e-9b7f-3043a3b4c369",
   "metadata": {},
   "outputs": [],
   "source": [
    "#dictionaries and json"
   ]
  },
  {
   "cell_type": "code",
   "execution_count": 34,
   "id": "633abffe-35e0-4f16-a40b-9bd1e1e754b1",
   "metadata": {},
   "outputs": [],
   "source": [
    "d={'a':100,'b':200,'c':300}"
   ]
  },
  {
   "cell_type": "code",
   "execution_count": 35,
   "id": "a8232793-f690-4535-9d9d-091793523653",
   "metadata": {},
   "outputs": [
    {
     "data": {
      "text/plain": [
       "{'a': 100, 'b': 200, 'c': 300}"
      ]
     },
     "execution_count": 35,
     "metadata": {},
     "output_type": "execute_result"
    }
   ],
   "source": [
    "d"
   ]
  },
  {
   "cell_type": "code",
   "execution_count": 36,
   "id": "564137a4-f5f4-4895-961e-1c200fd0d519",
   "metadata": {},
   "outputs": [
    {
     "data": {
      "text/plain": [
       "dict"
      ]
     },
     "execution_count": 36,
     "metadata": {},
     "output_type": "execute_result"
    }
   ],
   "source": [
    "type(d)"
   ]
  },
  {
   "cell_type": "code",
   "execution_count": 37,
   "id": "5df927cd-4c3d-4d04-88a7-b079edf825a9",
   "metadata": {},
   "outputs": [],
   "source": [
    "#except list we can use anything in dictory as key"
   ]
  },
  {
   "cell_type": "code",
   "execution_count": 39,
   "id": "6dbb4eb3-8df5-4681-a674-2ee3eee36c5a",
   "metadata": {},
   "outputs": [],
   "source": [
    "students = {\n",
    "    \"arnauv mehta\" : {\n",
    "        \"marks\":87,\n",
    "        \"grade\":'A',\n",
    "        \"status\":\"passed\"\n",
    "    },\n",
    "    \"isha sharma\": {\n",
    "        \"marks\":92,\n",
    "        \"grade\":'A',\n",
    "        \"status\":\"passed\"\n",
    "    }\n",
    "}"
   ]
  },
  {
   "cell_type": "code",
   "execution_count": 40,
   "id": "607f3efb-f9c0-492d-b722-4b3d9a880a4d",
   "metadata": {},
   "outputs": [
    {
     "data": {
      "text/plain": [
       "{'arnauv mehta': {'marks': 87, 'grade': 'A', 'status': 'passed'},\n",
       " 'isha sharma': {'marks': 92, 'grade': 'A', 'status': 'passed'}}"
      ]
     },
     "execution_count": 40,
     "metadata": {},
     "output_type": "execute_result"
    }
   ],
   "source": [
    "students"
   ]
  },
  {
   "cell_type": "code",
   "execution_count": 42,
   "id": "430510ca-d998-4801-a520-092bc176af8a",
   "metadata": {},
   "outputs": [
    {
     "data": {
      "text/plain": [
       "{'marks': 87, 'grade': 'A', 'status': 'passed'}"
      ]
     },
     "execution_count": 42,
     "metadata": {},
     "output_type": "execute_result"
    }
   ],
   "source": [
    "students['arnauv mehta']"
   ]
  },
  {
   "cell_type": "code",
   "execution_count": 43,
   "id": "f11e9738-c18f-4c53-89c0-147cf37ff6f0",
   "metadata": {},
   "outputs": [
    {
     "data": {
      "text/plain": [
       "{'marks': 92, 'grade': 'A', 'status': 'passed'}"
      ]
     },
     "execution_count": 43,
     "metadata": {},
     "output_type": "execute_result"
    }
   ],
   "source": [
    "students['isha sharma']"
   ]
  },
  {
   "cell_type": "code",
   "execution_count": 44,
   "id": "3d9006bc-0429-403c-b0f6-a5d97aae7a5d",
   "metadata": {},
   "outputs": [
    {
     "data": {
      "text/plain": [
       "'passed'"
      ]
     },
     "execution_count": 44,
     "metadata": {},
     "output_type": "execute_result"
    }
   ],
   "source": [
    "students['arnauv mehta']['status']"
   ]
  },
  {
   "cell_type": "code",
   "execution_count": 45,
   "id": "f6c6b251-7ef8-45e6-8dde-d6f00b97bb83",
   "metadata": {},
   "outputs": [],
   "source": [
    "weather_data={\n",
    "    \"banglore\": {\n",
    "        \"temp\":28,\n",
    "        \"condition\":\"cloudy\",\n",
    "        \"humidity\":\"65%\",\n",
    "        \"wind_speed\": 12\n",
    "    },\n",
    "    \"Mumbai\": {\n",
    "        \"temp\":33,\n",
    "        \"condition\":\"sunny\",\n",
    "        \"humidity\":\"70%\",\n",
    "        \"wind_speed\": 15\n",
    "    }\n",
    "}"
   ]
  },
  {
   "cell_type": "code",
   "execution_count": 46,
   "id": "6ff4fde9-839c-4055-b3a6-b7dafda0611a",
   "metadata": {},
   "outputs": [
    {
     "data": {
      "text/plain": [
       "{'banglore': {'temp': 28,\n",
       "  'condition': 'cloudy',\n",
       "  'humidity': '65%',\n",
       "  'wind_speed': 12},\n",
       " 'Mumbai': {'temp': 33,\n",
       "  'condition': 'sunny',\n",
       "  'humidity': '70%',\n",
       "  'wind_speed': 15}}"
      ]
     },
     "execution_count": 46,
     "metadata": {},
     "output_type": "execute_result"
    }
   ],
   "source": [
    "weather_data"
   ]
  },
  {
   "cell_type": "code",
   "execution_count": 50,
   "id": "2b876d63-f545-4f84-b8b3-f7bb190fda2f",
   "metadata": {},
   "outputs": [
    {
     "data": {
      "text/plain": [
       "19.5"
      ]
     },
     "execution_count": 50,
     "metadata": {},
     "output_type": "execute_result"
    }
   ],
   "source": [
    "weather_data['banglore']['wind_speed']+weather_data['Mumbai']['wind_speed']/2   # avg wind speeed in two cities"
   ]
  },
  {
   "cell_type": "code",
   "execution_count": 51,
   "id": "48151d2e-d5e1-4942-99a8-c4db23848c22",
   "metadata": {},
   "outputs": [],
   "source": [
    "retail_data={\n",
    "    \"product_id\":[101,102,103,104],\n",
    "    \"product_names\":[\"T-shirt\",\"Jeans\",\"Shoes\",\"Jacket\"],\n",
    "    \"prices\": [499,1299,1999,2499],\n",
    "    \"stock_quantity\":[50,20,30,40],\n",
    "    \"categories\":[\"Apparel\",\"Apparel\",\"Footwear\",\"Apparel\"],\n",
    "    \"is_available\":[True,True,False,True]\n",
    "}"
   ]
  },
  {
   "cell_type": "code",
   "execution_count": 52,
   "id": "f77009fa-6d8b-4191-bf08-e12ffd464950",
   "metadata": {},
   "outputs": [
    {
     "data": {
      "text/plain": [
       "{'product_id': [101, 102, 103, 104],\n",
       " 'product_names': ['T-shirt', 'Jeans', 'Shoes', 'Jacket'],\n",
       " 'prices': [499, 1299, 1999, 2499],\n",
       " 'stock_quantity': [50, 20, 30, 40],\n",
       " 'categories': ['Apparel', 'Apparel', 'Footwear', 'Apparel'],\n",
       " 'is_available': [True, True, False, True]}"
      ]
     },
     "execution_count": 52,
     "metadata": {},
     "output_type": "execute_result"
    }
   ],
   "source": [
    "retail_data"
   ]
  },
  {
   "cell_type": "code",
   "execution_count": 53,
   "id": "42e7f329-611e-4deb-9dc7-2a7a24fca18e",
   "metadata": {},
   "outputs": [
    {
     "data": {
      "text/plain": [
       "[50, 20, 30, 40]"
      ]
     },
     "execution_count": 53,
     "metadata": {},
     "output_type": "execute_result"
    }
   ],
   "source": [
    "retail_data['stock_quantity']"
   ]
  },
  {
   "cell_type": "code",
   "execution_count": 57,
   "id": "714fd7df-681a-4335-beb8-9d1e0c5b9a28",
   "metadata": {},
   "outputs": [
    {
     "data": {
      "text/plain": [
       "140"
      ]
     },
     "execution_count": 57,
     "metadata": {},
     "output_type": "execute_result"
    }
   ],
   "source": [
    "sum(retail_data['stock_quantity'])"
   ]
  },
  {
   "cell_type": "code",
   "execution_count": 58,
   "id": "782d76ad-a58a-4c63-8721-3c6b69ce855c",
   "metadata": {},
   "outputs": [
    {
     "data": {
      "text/plain": [
       "50"
      ]
     },
     "execution_count": 58,
     "metadata": {},
     "output_type": "execute_result"
    }
   ],
   "source": [
    "retail_data['stock_quantity'][0]"
   ]
  },
  {
   "cell_type": "code",
   "execution_count": 59,
   "id": "24275654-d32d-411a-a475-9bb6d508e202",
   "metadata": {},
   "outputs": [
    {
     "data": {
      "text/plain": [
       "'Footwear'"
      ]
     },
     "execution_count": 59,
     "metadata": {},
     "output_type": "execute_result"
    }
   ],
   "source": [
    "retail_data['categories'][2]"
   ]
  },
  {
   "cell_type": "code",
   "execution_count": 60,
   "id": "3cef59cd-ec44-4918-85a5-cf87453fca3b",
   "metadata": {},
   "outputs": [
    {
     "data": {
      "text/plain": [
       "'Shoes'"
      ]
     },
     "execution_count": 60,
     "metadata": {},
     "output_type": "execute_result"
    }
   ],
   "source": [
    "retail_data['product_names'][2]"
   ]
  },
  {
   "cell_type": "code",
   "execution_count": 64,
   "id": "67e9eb15-f657-4459-8f4f-647a37d0b3ed",
   "metadata": {},
   "outputs": [
    {
     "data": {
      "text/plain": [
       "'Footwear , Shoes'"
      ]
     },
     "execution_count": 64,
     "metadata": {},
     "output_type": "execute_result"
    }
   ],
   "source": [
    "retail_data['categories'][2] +\" , \"+retail_data['product_names'][2]"
   ]
  },
  {
   "cell_type": "code",
   "execution_count": 66,
   "id": "9e0f1c2c-89f0-414d-81c0-35a0ff5c5364",
   "metadata": {},
   "outputs": [],
   "source": [
    "data={\n",
    "    'lat':33.44,\n",
    "    'lon':-96.04,\n",
    "    'timezone':'America/chigago',\n",
    "    'timezone_offset':-18000,\n",
    "    'current':{'dt':164852397,\n",
    "               'sunrise':135697748,\n",
    "               'sunset':13364789,\n",
    "               'temp':292.45,\n",
    "               'feels_like':292.88,\n",
    "               'pressure':1014,\n",
    "               'humidity':89,\n",
    "               'dew_point':290.69,\n",
    "               'uv':0.16,\n",
    "               'clouds':53,\n",
    "               'visability':1000,\n",
    "               'wind_speed':3.13,\n",
    "               'wind_deg':93,\n",
    "               'wind_guest':6.71\n",
    "    }\n",
    "}"
   ]
  },
  {
   "cell_type": "code",
   "execution_count": 67,
   "id": "9030c076-7db0-4f5b-b7c6-df817348ecc8",
   "metadata": {},
   "outputs": [
    {
     "data": {
      "text/plain": [
       "{'lat': 33.44,\n",
       " 'lon': -96.04,\n",
       " 'timezone': 'America/chigago',\n",
       " 'timezone_offset': -18000,\n",
       " 'current': {'dt': 164852397,\n",
       "  'sunrise': 135697748,\n",
       "  'sunset': 13364789,\n",
       "  'temp': 292.45,\n",
       "  'feels_like': 292.88,\n",
       "  'pressure': 1014,\n",
       "  'humidity': 89,\n",
       "  'dew_point': 290.69,\n",
       "  'uv': 0.16,\n",
       "  'clouds': 53,\n",
       "  'visability': 1000,\n",
       "  'wind_speed': 3.13,\n",
       "  'wind_deg': 93,\n",
       "  'wind_guest': 6.71}}"
      ]
     },
     "execution_count": 67,
     "metadata": {},
     "output_type": "execute_result"
    }
   ],
   "source": [
    "data"
   ]
  },
  {
   "cell_type": "code",
   "execution_count": 68,
   "id": "beb822b5-8b79-41b7-9bec-26de5da7787b",
   "metadata": {},
   "outputs": [
    {
     "data": {
      "text/plain": [
       "3.13"
      ]
     },
     "execution_count": 68,
     "metadata": {},
     "output_type": "execute_result"
    }
   ],
   "source": [
    "data['current']['wind_speed']"
   ]
  },
  {
   "cell_type": "code",
   "execution_count": 69,
   "id": "fd02827a-a6cb-4c48-8bc8-2231b7e1f48f",
   "metadata": {},
   "outputs": [],
   "source": [
    "#inbuilt functions"
   ]
  },
  {
   "cell_type": "code",
   "execution_count": 71,
   "id": "5c1eb437-cce5-4fb6-abaa-db7fb9d42d6c",
   "metadata": {},
   "outputs": [],
   "source": [
    "retail_data={\n",
    "    \"product_id\":[101,102,103,104],\n",
    "    \"product_names\":[\"T-shirt\",\"Jeans\",\"Shoes\",\"Jacket\"],\n",
    "    \"prices\": [499,1299,1999,2499],\n",
    "    \"stock_quantity\":[50,20,30,40],\n",
    "    \"categories\":[\"Apparel\",\"Apparel\",\"Footwear\",\"Apparel\"],\n",
    "    \"is_available\":[True,True,False,True]\n",
    "}"
   ]
  },
  {
   "cell_type": "code",
   "execution_count": 72,
   "id": "18e30852-4586-4c37-82b6-e5f3efe28cfa",
   "metadata": {},
   "outputs": [
    {
     "data": {
      "text/plain": [
       "dict_keys(['product_id', 'product_names', 'prices', 'stock_quantity', 'categories', 'is_available'])"
      ]
     },
     "execution_count": 72,
     "metadata": {},
     "output_type": "execute_result"
    }
   ],
   "source": [
    "retail_data.keys()   # it will extract keys"
   ]
  },
  {
   "cell_type": "code",
   "execution_count": 73,
   "id": "c8626a2b-ecaf-4af4-ab03-d3b201a978a3",
   "metadata": {},
   "outputs": [
    {
     "data": {
      "text/plain": [
       "dict_values([[101, 102, 103, 104], ['T-shirt', 'Jeans', 'Shoes', 'Jacket'], [499, 1299, 1999, 2499], [50, 20, 30, 40], ['Apparel', 'Apparel', 'Footwear', 'Apparel'], [True, True, False, True]])"
      ]
     },
     "execution_count": 73,
     "metadata": {},
     "output_type": "execute_result"
    }
   ],
   "source": [
    "retail_data.values()  #it will extract values"
   ]
  },
  {
   "cell_type": "code",
   "execution_count": 77,
   "id": "a1f4b534-9bd3-4101-ad39-0ae06991d19b",
   "metadata": {},
   "outputs": [
    {
     "data": {
      "text/plain": [
       "[('product_id', [101, 102, 103, 104]),\n",
       " ('product_names', ['T-shirt', 'Jeans', 'Shoes', 'Jacket']),\n",
       " ('prices', [499, 1299, 1999, 2499]),\n",
       " ('stock_quantity', [50, 20, 30, 40]),\n",
       " ('categories', ['Apparel', 'Apparel', 'Footwear', 'Apparel']),\n",
       " ('is_available', [True, True, False, True])]"
      ]
     },
     "execution_count": 77,
     "metadata": {},
     "output_type": "execute_result"
    }
   ],
   "source": [
    "list(retail_data.items()) # converting in to list"
   ]
  },
  {
   "cell_type": "code",
   "execution_count": 79,
   "id": "2cb0575d-7ec6-488d-b4a7-142b7118d070",
   "metadata": {},
   "outputs": [
    {
     "data": {
      "text/plain": [
       "6"
      ]
     },
     "execution_count": 79,
     "metadata": {},
     "output_type": "execute_result"
    }
   ],
   "source": [
    "len(retail_data) # it shows how many elements in the list"
   ]
  },
  {
   "cell_type": "code",
   "execution_count": 85,
   "id": "26ee89e8-70c3-4d5f-9faf-f9a023b98b4e",
   "metadata": {},
   "outputs": [
    {
     "data": {
      "text/plain": [
       "2"
      ]
     },
     "execution_count": 85,
     "metadata": {},
     "output_type": "execute_result"
    }
   ],
   "source": [
    "retail_data['product_names'].index('Shoes')"
   ]
  },
  {
   "cell_type": "code",
   "execution_count": 86,
   "id": "8eaf3426-0d00-4015-b141-008980c6736a",
   "metadata": {},
   "outputs": [
    {
     "data": {
      "text/plain": [
       "['Apparel', 'Apparel', 'Footwear', 'Apparel']"
      ]
     },
     "execution_count": 86,
     "metadata": {},
     "output_type": "execute_result"
    }
   ],
   "source": [
    "retail_data.get('categories')"
   ]
  },
  {
   "cell_type": "code",
   "execution_count": 87,
   "id": "2b09196f-5b38-44b8-8d2c-a80d48666233",
   "metadata": {},
   "outputs": [
    {
     "data": {
      "text/plain": [
       "['Apparel', 'Apparel', 'Footwear', 'Apparel']"
      ]
     },
     "execution_count": 87,
     "metadata": {},
     "output_type": "execute_result"
    }
   ],
   "source": [
    "retail_data.pop('categories')"
   ]
  },
  {
   "cell_type": "code",
   "execution_count": 88,
   "id": "fef72e36-7bd5-47e6-bff3-7fe57f45e1df",
   "metadata": {},
   "outputs": [
    {
     "data": {
      "text/plain": [
       "{'product_id': [101, 102, 103, 104],\n",
       " 'product_names': ['T-shirt', 'Jeans', 'Shoes', 'Jacket'],\n",
       " 'prices': [499, 1299, 1999, 2499],\n",
       " 'stock_quantity': [50, 20, 30, 40],\n",
       " 'is_available': [True, True, False, True]}"
      ]
     },
     "execution_count": 88,
     "metadata": {},
     "output_type": "execute_result"
    }
   ],
   "source": [
    "retail_data"
   ]
  },
  {
   "cell_type": "code",
   "execution_count": 89,
   "id": "41c5e6dc-d122-400c-8e55-910a440675ab",
   "metadata": {},
   "outputs": [],
   "source": [
    "retail_data.clear()"
   ]
  },
  {
   "cell_type": "code",
   "execution_count": 90,
   "id": "4e3ec3e7-c604-4711-b0e0-42dfe3079bf4",
   "metadata": {},
   "outputs": [
    {
     "data": {
      "text/plain": [
       "{}"
      ]
     },
     "execution_count": 90,
     "metadata": {},
     "output_type": "execute_result"
    }
   ],
   "source": [
    "retail_data"
   ]
  },
  {
   "cell_type": "code",
   "execution_count": 91,
   "id": "08a0417d-89bb-4721-a4ea-1ec579312af0",
   "metadata": {},
   "outputs": [],
   "source": [
    "retail_data={\n",
    "    \"product_id\":[101,102,103,104],\n",
    "    \"product_names\":[\"T-shirt\",\"Jeans\",\"Shoes\",\"Jacket\"],\n",
    "    \"prices\": [499,1299,1999,2499],\n",
    "    \"stock_quantity\":[50,20,30,40],\n",
    "    \"categories\":[\"Apparel\",\"Apparel\",\"Footwear\",\"Apparel\"],\n",
    "    \"is_available\":[True,True,False,True]\n",
    "}"
   ]
  },
  {
   "cell_type": "code",
   "execution_count": 92,
   "id": "b68c833a-925a-44cd-aa07-3001f0cf209d",
   "metadata": {},
   "outputs": [
    {
     "data": {
      "text/plain": [
       "{'product_id': [101, 102, 103, 104],\n",
       " 'product_names': ['T-shirt', 'Jeans', 'Shoes', 'Jacket'],\n",
       " 'prices': [499, 1299, 1999, 2499],\n",
       " 'stock_quantity': [50, 20, 30, 40],\n",
       " 'categories': ['Apparel', 'Apparel', 'Footwear', 'Apparel'],\n",
       " 'is_available': [True, True, False, True]}"
      ]
     },
     "execution_count": 92,
     "metadata": {},
     "output_type": "execute_result"
    }
   ],
   "source": [
    "retail_data"
   ]
  },
  {
   "cell_type": "code",
   "execution_count": 93,
   "id": "88186c9f-d90a-455d-968e-81dca3caf159",
   "metadata": {},
   "outputs": [
    {
     "data": {
      "text/plain": [
       "{'product_id': [101, 102, 103, 104],\n",
       " 'product_names': ['T-shirt', 'Jeans', 'Shoes', 'Jacket'],\n",
       " 'prices': [499, 1299, 1999, 2499],\n",
       " 'stock_quantity': [50, 20, 30, 40],\n",
       " 'categories': ['Apparel', 'Apparel', 'Footwear', 'Apparel'],\n",
       " 'is_available': [True, True, False, True]}"
      ]
     },
     "execution_count": 93,
     "metadata": {},
     "output_type": "execute_result"
    }
   ],
   "source": [
    "retail_data.copy()"
   ]
  },
  {
   "cell_type": "code",
   "execution_count": 94,
   "id": "adb38bc6-53b6-4f0b-8322-8a0e15e7a6d6",
   "metadata": {},
   "outputs": [
    {
     "data": {
      "text/plain": [
       "('is_available', [True, True, False, True])"
      ]
     },
     "execution_count": 94,
     "metadata": {},
     "output_type": "execute_result"
    }
   ],
   "source": [
    "retail_data.popitem()"
   ]
  },
  {
   "cell_type": "code",
   "execution_count": 95,
   "id": "af496955-6fca-488c-96ad-9250c00ed491",
   "metadata": {},
   "outputs": [
    {
     "data": {
      "text/plain": [
       "{'product_id': [101, 102, 103, 104],\n",
       " 'product_names': ['T-shirt', 'Jeans', 'Shoes', 'Jacket'],\n",
       " 'prices': [499, 1299, 1999, 2499],\n",
       " 'stock_quantity': [50, 20, 30, 40],\n",
       " 'categories': ['Apparel', 'Apparel', 'Footwear', 'Apparel']}"
      ]
     },
     "execution_count": 95,
     "metadata": {},
     "output_type": "execute_result"
    }
   ],
   "source": [
    "retail_data"
   ]
  },
  {
   "cell_type": "code",
   "execution_count": 99,
   "id": "302fd330-a0dd-4cf5-b583-f2ec971a6114",
   "metadata": {},
   "outputs": [],
   "source": [
    "retail_data.update({\"a\":\"b\"})"
   ]
  },
  {
   "cell_type": "code",
   "execution_count": 100,
   "id": "52cacbe7-be83-4d68-b894-6b7050b6e16b",
   "metadata": {},
   "outputs": [
    {
     "data": {
      "text/plain": [
       "{'product_id': [101, 102, 103, 104],\n",
       " 'product_names': ['T-shirt', 'Jeans', 'Shoes', 'Jacket'],\n",
       " 'prices': [499, 1299, 1999, 2499],\n",
       " 'stock_quantity': [50, 20, 30, 40],\n",
       " 'categories': ['Apparel', 'Apparel', 'Footwear', 'Apparel'],\n",
       " 'a': 'b'}"
      ]
     },
     "execution_count": 100,
     "metadata": {},
     "output_type": "execute_result"
    }
   ],
   "source": [
    "retail_data"
   ]
  },
  {
   "cell_type": "code",
   "execution_count": 101,
   "id": "f0095715-3643-4734-ac00-1392f615fc2e",
   "metadata": {},
   "outputs": [],
   "source": [
    "retail_data.update({\"product_id\":\"30\"})"
   ]
  },
  {
   "cell_type": "code",
   "execution_count": 102,
   "id": "e761b75d-6d6d-48ae-93cd-d1d51d388a11",
   "metadata": {},
   "outputs": [
    {
     "data": {
      "text/plain": [
       "{'product_id': '30',\n",
       " 'product_names': ['T-shirt', 'Jeans', 'Shoes', 'Jacket'],\n",
       " 'prices': [499, 1299, 1999, 2499],\n",
       " 'stock_quantity': [50, 20, 30, 40],\n",
       " 'categories': ['Apparel', 'Apparel', 'Footwear', 'Apparel'],\n",
       " 'a': 'b'}"
      ]
     },
     "execution_count": 102,
     "metadata": {},
     "output_type": "execute_result"
    }
   ],
   "source": [
    "retail_data"
   ]
  },
  {
   "cell_type": "code",
   "execution_count": 108,
   "id": "ff2f479d-9a84-4aa5-abff-f455cac22a20",
   "metadata": {},
   "outputs": [],
   "source": [
    "retail_data['product_names'][1]='JEANS'"
   ]
  },
  {
   "cell_type": "code",
   "execution_count": 109,
   "id": "605296a9-b0d6-4ee0-94df-f93b6ec2f08b",
   "metadata": {},
   "outputs": [
    {
     "data": {
      "text/plain": [
       "{'product_id': '30',\n",
       " 'product_names': ['T-shirt', 'JEANS', 'Shoes', 'Jacket'],\n",
       " 'prices': [499, 1299, 1999, 2499],\n",
       " 'stock_quantity': [50, 20, 30, 40],\n",
       " 'categories': ['Apparel', 'Apparel', 'Footwear', 'Apparel'],\n",
       " 'a': 'b'}"
      ]
     },
     "execution_count": 109,
     "metadata": {},
     "output_type": "execute_result"
    }
   ],
   "source": [
    "retail_data"
   ]
  },
  {
   "cell_type": "code",
   "execution_count": null,
   "id": "3de5163a-d7a9-45af-add9-88f0663bd331",
   "metadata": {},
   "outputs": [],
   "source": []
  },
  {
   "cell_type": "code",
   "execution_count": 110,
   "id": "954125f0-83a6-4257-9d93-d3bb0e3a83ac",
   "metadata": {},
   "outputs": [],
   "source": [
    "#sets"
   ]
  },
  {
   "cell_type": "code",
   "execution_count": 111,
   "id": "abe1a566-da61-4454-8a64-14484800961c",
   "metadata": {},
   "outputs": [],
   "source": [
    "#it will sort the values in ascending order\n",
    "#it wont print duplicates\n"
   ]
  },
  {
   "cell_type": "code",
   "execution_count": 112,
   "id": "3964660f-11f1-4aa3-829b-675a9d7d5e32",
   "metadata": {},
   "outputs": [],
   "source": [
    "a={1,2,3,4}\n",
    "b={3,4,5,6}\n",
    "c={7,8}"
   ]
  },
  {
   "cell_type": "code",
   "execution_count": 114,
   "id": "4cf0623d-0af2-4b6e-88d8-e980fd0f32e8",
   "metadata": {},
   "outputs": [
    {
     "data": {
      "text/plain": [
       "(set, set, set)"
      ]
     },
     "execution_count": 114,
     "metadata": {},
     "output_type": "execute_result"
    }
   ],
   "source": [
    "type(a),type(b),type(c)"
   ]
  },
  {
   "cell_type": "code",
   "execution_count": 115,
   "id": "7bf4e1e4-7d8c-4327-bf6d-fa36acfbac27",
   "metadata": {},
   "outputs": [],
   "source": [
    "a.add(10)"
   ]
  },
  {
   "cell_type": "code",
   "execution_count": 116,
   "id": "7d043bdd-8917-4d8d-a3c4-b02613ad2eb6",
   "metadata": {},
   "outputs": [
    {
     "data": {
      "text/plain": [
       "{1, 2, 3, 4, 10}"
      ]
     },
     "execution_count": 116,
     "metadata": {},
     "output_type": "execute_result"
    }
   ],
   "source": [
    "a"
   ]
  },
  {
   "cell_type": "code",
   "execution_count": 117,
   "id": "4f91524b-8735-421c-86be-239cb62136a6",
   "metadata": {},
   "outputs": [],
   "source": [
    "a.update([10,20,30])"
   ]
  },
  {
   "cell_type": "code",
   "execution_count": 118,
   "id": "c0a5ce57-5f19-4ded-bf96-d4925400462f",
   "metadata": {},
   "outputs": [
    {
     "data": {
      "text/plain": [
       "{1, 2, 3, 4, 10, 20, 30}"
      ]
     },
     "execution_count": 118,
     "metadata": {},
     "output_type": "execute_result"
    }
   ],
   "source": [
    "a"
   ]
  },
  {
   "cell_type": "code",
   "execution_count": 119,
   "id": "62ed06cf-dabf-4553-a8d6-3c22259e9c7b",
   "metadata": {},
   "outputs": [],
   "source": [
    "a.remove(10)"
   ]
  },
  {
   "cell_type": "code",
   "execution_count": 120,
   "id": "387c0ee7-919f-4ef0-86f4-604e5cb51ed1",
   "metadata": {},
   "outputs": [
    {
     "data": {
      "text/plain": [
       "{1, 2, 3, 4, 20, 30}"
      ]
     },
     "execution_count": 120,
     "metadata": {},
     "output_type": "execute_result"
    }
   ],
   "source": [
    "a"
   ]
  },
  {
   "cell_type": "code",
   "execution_count": 122,
   "id": "b13c28f5-7a42-4723-9728-8b9213362d3d",
   "metadata": {},
   "outputs": [
    {
     "data": {
      "text/plain": [
       "2"
      ]
     },
     "execution_count": 122,
     "metadata": {},
     "output_type": "execute_result"
    }
   ],
   "source": [
    "a.pop()"
   ]
  },
  {
   "cell_type": "code",
   "execution_count": 123,
   "id": "b7f62f22-d1fd-4432-90b3-2553da8adc0a",
   "metadata": {},
   "outputs": [],
   "source": [
    "a.clear()"
   ]
  },
  {
   "cell_type": "code",
   "execution_count": 124,
   "id": "5023bbd5-8a37-4628-8d19-fafa00d2227d",
   "metadata": {},
   "outputs": [
    {
     "data": {
      "text/plain": [
       "set()"
      ]
     },
     "execution_count": 124,
     "metadata": {},
     "output_type": "execute_result"
    }
   ],
   "source": [
    "a"
   ]
  },
  {
   "cell_type": "code",
   "execution_count": 125,
   "id": "ab395763-d2be-4d0a-9480-99ad2d53bce7",
   "metadata": {},
   "outputs": [
    {
     "data": {
      "text/plain": [
       "{3, 4, 5, 6}"
      ]
     },
     "execution_count": 125,
     "metadata": {},
     "output_type": "execute_result"
    }
   ],
   "source": [
    "a.union(b)"
   ]
  },
  {
   "cell_type": "code",
   "execution_count": 126,
   "id": "09f74604-8477-41d2-a802-69131dcabdba",
   "metadata": {},
   "outputs": [],
   "source": [
    "a={1,2,3,4}\n",
    "b={3,4,5,6}\n",
    "c={7,8}"
   ]
  },
  {
   "cell_type": "code",
   "execution_count": 127,
   "id": "60d8043a-aa9d-458d-92f6-78bbd354b44e",
   "metadata": {},
   "outputs": [
    {
     "data": {
      "text/plain": [
       "{1, 2, 3, 4, 5, 6}"
      ]
     },
     "execution_count": 127,
     "metadata": {},
     "output_type": "execute_result"
    }
   ],
   "source": [
    "a.union(b)"
   ]
  },
  {
   "cell_type": "code",
   "execution_count": 128,
   "id": "045106da-c39b-475a-9d48-94349f7f64b3",
   "metadata": {},
   "outputs": [
    {
     "data": {
      "text/plain": [
       "{3, 4}"
      ]
     },
     "execution_count": 128,
     "metadata": {},
     "output_type": "execute_result"
    }
   ],
   "source": [
    "a.intersection(b)"
   ]
  },
  {
   "cell_type": "code",
   "execution_count": 129,
   "id": "6002df60-6213-4fa5-9383-22e9df2fa570",
   "metadata": {},
   "outputs": [
    {
     "data": {
      "text/plain": [
       "{1, 2}"
      ]
     },
     "execution_count": 129,
     "metadata": {},
     "output_type": "execute_result"
    }
   ],
   "source": [
    "a.difference(b)"
   ]
  },
  {
   "cell_type": "code",
   "execution_count": 130,
   "id": "aa8155bb-0e4b-4661-89f9-cd342f8de49e",
   "metadata": {},
   "outputs": [
    {
     "data": {
      "text/plain": [
       "{5, 6}"
      ]
     },
     "execution_count": 130,
     "metadata": {},
     "output_type": "execute_result"
    }
   ],
   "source": [
    "b.difference(a)"
   ]
  },
  {
   "cell_type": "code",
   "execution_count": 133,
   "id": "06666436-0189-4fc8-94e5-bd3ba95086ef",
   "metadata": {},
   "outputs": [],
   "source": [
    "a={1,2,3,4}\n",
    "b={3,4,5,6}\n",
    "c={3,4}"
   ]
  },
  {
   "cell_type": "code",
   "execution_count": 134,
   "id": "db3a8115-d552-4a96-bdaf-a88c338a2d54",
   "metadata": {},
   "outputs": [
    {
     "data": {
      "text/plain": [
       "True"
      ]
     },
     "execution_count": 134,
     "metadata": {},
     "output_type": "execute_result"
    }
   ],
   "source": [
    "c.issubset(a)"
   ]
  },
  {
   "cell_type": "code",
   "execution_count": 136,
   "id": "f9a2843c-ed5e-45aa-9fc9-6a7262ad89a0",
   "metadata": {},
   "outputs": [
    {
     "data": {
      "text/plain": [
       "True"
      ]
     },
     "execution_count": 136,
     "metadata": {},
     "output_type": "execute_result"
    }
   ],
   "source": [
    "a.issuperset(c)"
   ]
  },
  {
   "cell_type": "code",
   "execution_count": 137,
   "id": "9fe27472-ad84-47e3-975c-8ac7e9c8cd57",
   "metadata": {},
   "outputs": [
    {
     "data": {
      "text/plain": [
       "False"
      ]
     },
     "execution_count": 137,
     "metadata": {},
     "output_type": "execute_result"
    }
   ],
   "source": [
    "a.isdisjoint(c)"
   ]
  },
  {
   "cell_type": "code",
   "execution_count": 139,
   "id": "6f05e881-aa31-4a3f-ac57-4f1e13239ba4",
   "metadata": {},
   "outputs": [],
   "source": [
    "a={1,2,3,4}\n",
    "b={3,4,5,6}\n",
    "c={7,8}"
   ]
  },
  {
   "cell_type": "code",
   "execution_count": 140,
   "id": "5baff12c-460f-4e83-9547-9692f8d2d5c9",
   "metadata": {},
   "outputs": [
    {
     "data": {
      "text/plain": [
       "True"
      ]
     },
     "execution_count": 140,
     "metadata": {},
     "output_type": "execute_result"
    }
   ],
   "source": [
    "a.isdisjoint(c)"
   ]
  },
  {
   "cell_type": "code",
   "execution_count": 141,
   "id": "e8103b44-90f4-4178-9b00-266d6efdaadf",
   "metadata": {},
   "outputs": [
    {
     "data": {
      "text/plain": [
       "{1, 2, 5, 6}"
      ]
     },
     "execution_count": 141,
     "metadata": {},
     "output_type": "execute_result"
    }
   ],
   "source": [
    "a.symmetric_difference(b)"
   ]
  },
  {
   "cell_type": "code",
   "execution_count": 146,
   "id": "acdbf48d-bd59-4311-aa38-10b2c174ac36",
   "metadata": {},
   "outputs": [],
   "source": [
    "a.symmetric_difference_update(b)"
   ]
  },
  {
   "cell_type": "code",
   "execution_count": 147,
   "id": "ac817eca-fade-47b3-a06e-034615f9a4fe",
   "metadata": {},
   "outputs": [
    {
     "data": {
      "text/plain": [
       "{1, 2, 5, 6}"
      ]
     },
     "execution_count": 147,
     "metadata": {},
     "output_type": "execute_result"
    }
   ],
   "source": [
    "a"
   ]
  },
  {
   "cell_type": "code",
   "execution_count": 148,
   "id": "2f91ff38-cfc2-4395-8ead-c7ef76d6c7e4",
   "metadata": {},
   "outputs": [
    {
     "ename": "NameError",
     "evalue": "name 'pw' is not defined",
     "output_type": "error",
     "traceback": [
      "\u001b[31m---------------------------------------------------------------------------\u001b[39m",
      "\u001b[31mNameError\u001b[39m                                 Traceback (most recent call last)",
      "\u001b[36mCell\u001b[39m\u001b[36m \u001b[39m\u001b[32mIn[148]\u001b[39m\u001b[32m, line 1\u001b[39m\n\u001b[32m----> \u001b[39m\u001b[32m1\u001b[39m \u001b[43mpw\u001b[49m\n",
      "\u001b[31mNameError\u001b[39m: name 'pw' is not defined"
     ]
    }
   ],
   "source": [
    "pw\n"
   ]
  },
  {
   "cell_type": "code",
   "execution_count": 149,
   "id": "53f80238-9416-4dc7-8ae4-d0f17d47d6b7",
   "metadata": {},
   "outputs": [
    {
     "data": {
      "text/plain": [
       "'C:\\\\Users\\\\Lenovo'"
      ]
     },
     "execution_count": 149,
     "metadata": {},
     "output_type": "execute_result"
    }
   ],
   "source": [
    "pwd"
   ]
  },
  {
   "cell_type": "code",
   "execution_count": null,
   "id": "a1cdfcda-74ae-4da0-ad37-357255702e6b",
   "metadata": {},
   "outputs": [],
   "source": []
  }
 ],
 "metadata": {
  "kernelspec": {
   "display_name": "Python 3 (ipykernel)",
   "language": "python",
   "name": "python3"
  },
  "language_info": {
   "codemirror_mode": {
    "name": "ipython",
    "version": 3
   },
   "file_extension": ".py",
   "mimetype": "text/x-python",
   "name": "python",
   "nbconvert_exporter": "python",
   "pygments_lexer": "ipython3",
   "version": "3.13.2"
  }
 },
 "nbformat": 4,
 "nbformat_minor": 5
}
