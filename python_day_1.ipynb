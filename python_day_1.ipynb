{
 "cells": [
  {
   "cell_type": "code",
   "execution_count": null,
   "id": "b54cf8b8-de10-470a-8c3b-2f077afaffa6",
   "metadata": {},
   "outputs": [],
   "source": [
    "x is for deleting the cell\n",
    "a is for creating the cell above\n",
    "b is for creating the cell below\n",
    "ctrl+enter : for execution\n",
    "shift + enter: for executing and creating new cell"
   ]
  },
  {
   "cell_type": "raw",
   "id": "6a6e4942-59f7-4d35-a2b5-744a795b007a",
   "metadata": {},
   "source": [
    "variables\n",
    "data types\n",
    "operators"
   ]
  },
  {
   "cell_type": "code",
   "execution_count": 1,
   "id": "a2719bbb-be6b-498c-8f59-b20ee7c2475f",
   "metadata": {},
   "outputs": [
    {
     "data": {
      "text/plain": [
       "5"
      ]
     },
     "execution_count": 1,
     "metadata": {},
     "output_type": "execute_result"
    }
   ],
   "source": [
    "2+3"
   ]
  },
  {
   "cell_type": "code",
   "execution_count": 2,
   "id": "fb4ceb7c-b74a-4e8d-8bf8-511ad2c419e5",
   "metadata": {},
   "outputs": [],
   "source": [
    "name='data science'"
   ]
  },
  {
   "cell_type": "code",
   "execution_count": 3,
   "id": "5c4f12ca-5897-49ff-bf79-abee33b1ed36",
   "metadata": {},
   "outputs": [
    {
     "data": {
      "text/plain": [
       "'data science'"
      ]
     },
     "execution_count": 3,
     "metadata": {},
     "output_type": "execute_result"
    }
   ],
   "source": [
    "name"
   ]
  },
  {
   "cell_type": "code",
   "execution_count": 4,
   "id": "cf54b6ad-ff6f-4c51-865b-311775fb4f49",
   "metadata": {},
   "outputs": [],
   "source": [
    "duration=4"
   ]
  },
  {
   "cell_type": "code",
   "execution_count": 5,
   "id": "fb2710b1-7d2f-43f4-af90-547d9cf15555",
   "metadata": {},
   "outputs": [
    {
     "data": {
      "text/plain": [
       "4"
      ]
     },
     "execution_count": 5,
     "metadata": {},
     "output_type": "execute_result"
    }
   ],
   "source": [
    "duration"
   ]
  },
  {
   "cell_type": "code",
   "execution_count": 6,
   "id": "1707edb6-b274-4cc1-bfa6-45b2905fff06",
   "metadata": {},
   "outputs": [
    {
     "data": {
      "text/plain": [
       "'C:\\\\Users\\\\Lenovo'"
      ]
     },
     "execution_count": 6,
     "metadata": {},
     "output_type": "execute_result"
    }
   ],
   "source": [
    "pwd"
   ]
  },
  {
   "cell_type": "code",
   "execution_count": 8,
   "id": "81614d1c-92c6-4cd0-b370-e1407d84281a",
   "metadata": {},
   "outputs": [
    {
     "ename": "SyntaxError",
     "evalue": "invalid syntax (313050383.py, line 1)",
     "output_type": "error",
     "traceback": [
      "  \u001b[36mCell\u001b[39m\u001b[36m \u001b[39m\u001b[32mIn[8]\u001b[39m\u001b[32m, line 1\u001b[39m\n\u001b[31m    \u001b[39m\u001b[31mvaraible name should not starts with number. but in middle it will allow\u001b[39m\n             ^\n\u001b[31mSyntaxError\u001b[39m\u001b[31m:\u001b[39m invalid syntax\n"
     ]
    }
   ],
   "source": [
    "varaible name should not starts with number. but in middle it will allow\n",
    "specia charachters also wont allowed (except _)\n",
    "no inbuilt keyword"
   ]
  },
  {
   "cell_type": "code",
   "execution_count": 9,
   "id": "66d51bd1-a135-4fc1-9a78-aa5dd9221bfa",
   "metadata": {},
   "outputs": [],
   "source": [
    "import keyword"
   ]
  },
  {
   "cell_type": "code",
   "execution_count": 10,
   "id": "a035d564-bcb7-4b8f-ac31-00eca646f84e",
   "metadata": {},
   "outputs": [
    {
     "name": "stdout",
     "output_type": "stream",
     "text": [
      "['False', 'None', 'True', 'and', 'as', 'assert', 'async', 'await', 'break', 'class', 'continue', 'def', 'del', 'elif', 'else', 'except', 'finally', 'for', 'from', 'global', 'if', 'import', 'in', 'is', 'lambda', 'nonlocal', 'not', 'or', 'pass', 'raise', 'return', 'try', 'while', 'with', 'yield']\n"
     ]
    }
   ],
   "source": [
    "print(keyword.kwlist)"
   ]
  },
  {
   "cell_type": "code",
   "execution_count": 11,
   "id": "813a7d7d-0718-4a63-bd60-63f36d8473fa",
   "metadata": {},
   "outputs": [],
   "source": [
    "age=10"
   ]
  },
  {
   "cell_type": "code",
   "execution_count": 12,
   "id": "ac534918-610f-4f71-9776-fd6943172d3b",
   "metadata": {},
   "outputs": [
    {
     "data": {
      "text/plain": [
       "int"
      ]
     },
     "execution_count": 12,
     "metadata": {},
     "output_type": "execute_result"
    }
   ],
   "source": [
    "type(age)"
   ]
  },
  {
   "cell_type": "code",
   "execution_count": 13,
   "id": "15c2ae64-7578-4731-8274-977b66063ab3",
   "metadata": {},
   "outputs": [],
   "source": [
    "age=10+2j"
   ]
  },
  {
   "cell_type": "code",
   "execution_count": 14,
   "id": "837ea473-7143-4253-a024-97ed1558f363",
   "metadata": {},
   "outputs": [
    {
     "data": {
      "text/plain": [
       "complex"
      ]
     },
     "execution_count": 14,
     "metadata": {},
     "output_type": "execute_result"
    }
   ],
   "source": [
    "type(age)"
   ]
  },
  {
   "cell_type": "code",
   "execution_count": 15,
   "id": "4c79382a-3b59-4849-95ed-836975ef16a1",
   "metadata": {},
   "outputs": [],
   "source": [
    "name='raji'"
   ]
  },
  {
   "cell_type": "code",
   "execution_count": 16,
   "id": "d9fd9184-c293-4c23-971a-664cf57b601d",
   "metadata": {},
   "outputs": [
    {
     "data": {
      "text/plain": [
       "str"
      ]
     },
     "execution_count": 16,
     "metadata": {},
     "output_type": "execute_result"
    }
   ],
   "source": [
    "type(name)"
   ]
  },
  {
   "cell_type": "code",
   "execution_count": 17,
   "id": "86605e14-5c97-4b8b-955b-356a863941a0",
   "metadata": {},
   "outputs": [
    {
     "name": "stdout",
     "output_type": "stream",
     "text": [
      "10000\n",
      "raji\n",
      "2.1\n",
      "(3+2j)\n"
     ]
    }
   ],
   "source": [
    "salary = 10000\n",
    "name = 'raji'\n",
    "exp = 2.10\n",
    "randomnumbers = 3+2J\n",
    "print(salary)\n",
    "print(name)\n",
    "print(exp)\n",
    "print (randomnumbers)"
   ]
  },
  {
   "cell_type": "code",
   "execution_count": 18,
   "id": "55af0975-4f20-4bb2-9349-6086cf0f8afa",
   "metadata": {},
   "outputs": [
    {
     "name": "stdout",
     "output_type": "stream",
     "text": [
      "10000 <class 'int'>\n",
      "raji <class 'str'>\n",
      "2.1 <class 'float'>\n",
      "(3+2j) <class 'complex'>\n"
     ]
    }
   ],
   "source": [
    "salary = 10000\n",
    "name = 'raji'\n",
    "exp = 2.10\n",
    "randomnumbers = 3+2J\n",
    "print(salary,type(salary))\n",
    "print(name,type(name))\n",
    "print(exp,type(exp))\n",
    "print (randomnumbers,type(randomnumbers))"
   ]
  },
  {
   "cell_type": "code",
   "execution_count": null,
   "id": "b5009671-3014-4769-a3f3-c2fe9a0840fd",
   "metadata": {},
   "outputs": [],
   "source": []
  },
  {
   "cell_type": "code",
   "execution_count": 19,
   "id": "017dc1b6-ba91-4319-89db-c410f4c8b1ee",
   "metadata": {},
   "outputs": [],
   "source": [
    "x='Data science'b"
   ]
  },
  {
   "cell_type": "code",
   "execution_count": 20,
   "id": "76037095-8bd5-46da-913b-ce4ac1fae06b",
   "metadata": {},
   "outputs": [
    {
     "data": {
      "text/plain": [
       "('e', 'D', 'a', 'n')"
      ]
     },
     "execution_count": 20,
     "metadata": {},
     "output_type": "execute_result"
    }
   ],
   "source": [
    "x[-1],x[0],x[3],x[-3]"
   ]
  },
  {
   "cell_type": "code",
   "execution_count": 21,
   "id": "f0651e1f-d777-49fe-8e4a-072f50c1b7ad",
   "metadata": {},
   "outputs": [
    {
     "data": {
      "text/plain": [
       "'Data science'"
      ]
     },
     "execution_count": 21,
     "metadata": {},
     "output_type": "execute_result"
    }
   ],
   "source": [
    "x"
   ]
  },
  {
   "cell_type": "code",
   "execution_count": 22,
   "id": "7c5adc38-cc10-4e06-af0d-e5e2cc6baecd",
   "metadata": {},
   "outputs": [
    {
     "data": {
      "text/plain": [
       "'ta '"
      ]
     },
     "execution_count": 22,
     "metadata": {},
     "output_type": "execute_result"
    }
   ],
   "source": [
    "x[2:5]   #left side will be inclusive and right side is exclusive"
   ]
  },
  {
   "cell_type": "code",
   "execution_count": null,
   "id": "129104f0-9a35-4944-8414-77ceb7d238a1",
   "metadata": {},
   "outputs": [],
   "source": []
  },
  {
   "cell_type": "code",
   "execution_count": 32,
   "id": "3c42fd15-0854-4dfd-9c13-5940aa08e1b5",
   "metadata": {},
   "outputs": [],
   "source": [
    "x='machine learning'"
   ]
  },
  {
   "cell_type": "code",
   "execution_count": 24,
   "id": "16ad54f0-ee57-48df-950d-65a091a02f78",
   "metadata": {},
   "outputs": [
    {
     "data": {
      "text/plain": [
       "'meachine learning'"
      ]
     },
     "execution_count": 24,
     "metadata": {},
     "output_type": "execute_result"
    }
   ],
   "source": [
    "x"
   ]
  },
  {
   "cell_type": "code",
   "execution_count": 33,
   "id": "2bca6172-e14d-475b-a8dc-4586ddf5d20b",
   "metadata": {},
   "outputs": [],
   "source": [
    "x=\"machine learning\""
   ]
  },
  {
   "cell_type": "code",
   "execution_count": 28,
   "id": "c49da1aa-8443-4672-a580-249e68088a7b",
   "metadata": {},
   "outputs": [
    {
     "data": {
      "text/plain": [
       "'meachine learning'"
      ]
     },
     "execution_count": 28,
     "metadata": {},
     "output_type": "execute_result"
    }
   ],
   "source": [
    "x"
   ]
  },
  {
   "cell_type": "code",
   "execution_count": 29,
   "id": "b2f039dd-c5ff-49e3-991a-59ae2f6dd3a0",
   "metadata": {},
   "outputs": [],
   "source": [
    "x='''machine \n",
    "learning'''"
   ]
  },
  {
   "cell_type": "code",
   "execution_count": 36,
   "id": "d9f87cd7-2e82-45c9-ad43-c075c6a9f9de",
   "metadata": {},
   "outputs": [
    {
     "data": {
      "text/plain": [
       "'machine learning'"
      ]
     },
     "execution_count": 36,
     "metadata": {},
     "output_type": "execute_result"
    }
   ],
   "source": [
    "x"
   ]
  },
  {
   "cell_type": "code",
   "execution_count": 34,
   "id": "7d4165f0-5329-414f-8948-da71de7db95b",
   "metadata": {},
   "outputs": [
    {
     "data": {
      "text/plain": [
       "'ch'"
      ]
     },
     "execution_count": 34,
     "metadata": {},
     "output_type": "execute_result"
    }
   ],
   "source": [
    "x[2:4]"
   ]
  },
  {
   "cell_type": "code",
   "execution_count": 37,
   "id": "3e81db3e-d6be-4af1-b652-e6af8be24b9f",
   "metadata": {},
   "outputs": [
    {
     "data": {
      "text/plain": [
       "' le'"
      ]
     },
     "execution_count": 37,
     "metadata": {},
     "output_type": "execute_result"
    }
   ],
   "source": [
    "x[7:10]"
   ]
  },
  {
   "cell_type": "code",
   "execution_count": 38,
   "id": "b0452923-a372-478e-84f0-61a48c3f28c1",
   "metadata": {},
   "outputs": [],
   "source": [
    "x='machine'"
   ]
  },
  {
   "cell_type": "code",
   "execution_count": 39,
   "id": "ca4b9223-6122-4035-bfa0-ce718bd0a5b9",
   "metadata": {},
   "outputs": [
    {
     "data": {
      "text/plain": [
       "'in'"
      ]
     },
     "execution_count": 39,
     "metadata": {},
     "output_type": "execute_result"
    }
   ],
   "source": [
    "x[-3:-1]"
   ]
  },
  {
   "cell_type": "code",
   "execution_count": 40,
   "id": "48fd2ba7-603c-4a91-8317-b8d85c5225ff",
   "metadata": {},
   "outputs": [
    {
     "data": {
      "text/plain": [
       "'chi'"
      ]
     },
     "execution_count": 40,
     "metadata": {},
     "output_type": "execute_result"
    }
   ],
   "source": [
    "x[-5:-2]"
   ]
  },
  {
   "cell_type": "code",
   "execution_count": 43,
   "id": "bb79ce43-dc06-449d-b824-20dae72fd828",
   "metadata": {},
   "outputs": [
    {
     "data": {
      "text/plain": [
       "''"
      ]
     },
     "execution_count": 43,
     "metadata": {},
     "output_type": "execute_result"
    }
   ],
   "source": [
    "x[-2:-5]  #left to right it will read and always left side bigger number shoud be there . if not it will print empty string"
   ]
  },
  {
   "cell_type": "code",
   "execution_count": 44,
   "id": "2beacf27-8b47-46a6-a59b-77321ea23580",
   "metadata": {},
   "outputs": [],
   "source": [
    "x='abcdefghi'"
   ]
  },
  {
   "cell_type": "code",
   "execution_count": 45,
   "id": "bb3a73c2-8e28-4a6f-9589-a451e6f20a7a",
   "metadata": {},
   "outputs": [
    {
     "ename": "SyntaxError",
     "evalue": "invalid syntax (2380204082.py, line 2)",
     "output_type": "error",
     "traceback": [
      "  \u001b[36mCell\u001b[39m\u001b[36m \u001b[39m\u001b[32mIn[45]\u001b[39m\u001b[32m, line 2\u001b[39m\n\u001b[31m    \u001b[39m\u001b[31mstart :0 index\u001b[39m\n             ^\n\u001b[31mSyntaxError\u001b[39m\u001b[31m:\u001b[39m invalid syntax\n"
     ]
    }
   ],
   "source": [
    "x[start:end:step]\n",
    "start :0 index\n",
    "end: len(x)\n",
    "step : positive, negative, farward , reverse"
   ]
  },
  {
   "cell_type": "code",
   "execution_count": 46,
   "id": "02f2f0ba-b89a-4dab-b32b-57a39a0f91c0",
   "metadata": {},
   "outputs": [
    {
     "data": {
      "text/plain": [
       "'abcdefghi'"
      ]
     },
     "execution_count": 46,
     "metadata": {},
     "output_type": "execute_result"
    }
   ],
   "source": [
    "x"
   ]
  },
  {
   "cell_type": "code",
   "execution_count": 47,
   "id": "8fecb610-34f5-407c-94b8-1cc774332d9f",
   "metadata": {},
   "outputs": [
    {
     "data": {
      "text/plain": [
       "'abcdefghi'"
      ]
     },
     "execution_count": 47,
     "metadata": {},
     "output_type": "execute_result"
    }
   ],
   "source": [
    "x[::1]"
   ]
  },
  {
   "cell_type": "code",
   "execution_count": 48,
   "id": "ec58a387-e50c-46e5-9355-8b843ec1e19c",
   "metadata": {},
   "outputs": [
    {
     "data": {
      "text/plain": [
       "'abc'"
      ]
     },
     "execution_count": 48,
     "metadata": {},
     "output_type": "execute_result"
    }
   ],
   "source": [
    "x[:3:1]"
   ]
  },
  {
   "cell_type": "code",
   "execution_count": 49,
   "id": "90a4a5df-c337-440f-83ef-7b491eea3b97",
   "metadata": {},
   "outputs": [
    {
     "data": {
      "text/plain": [
       "'acegi'"
      ]
     },
     "execution_count": 49,
     "metadata": {},
     "output_type": "execute_result"
    }
   ],
   "source": [
    "x[::2]"
   ]
  },
  {
   "cell_type": "code",
   "execution_count": 50,
   "id": "dd46b5bf-77e4-4739-af36-2fa0dd64c397",
   "metadata": {},
   "outputs": [],
   "source": [
    "x='python'"
   ]
  },
  {
   "cell_type": "code",
   "execution_count": 51,
   "id": "f897cc82-070f-4465-b8ac-0cac2d57f15e",
   "metadata": {},
   "outputs": [
    {
     "data": {
      "text/plain": [
       "'pto'"
      ]
     },
     "execution_count": 51,
     "metadata": {},
     "output_type": "execute_result"
    }
   ],
   "source": [
    "x[::2]"
   ]
  },
  {
   "cell_type": "code",
   "execution_count": 56,
   "id": "834e804d-d652-42eb-99b7-b25a59a68ebf",
   "metadata": {},
   "outputs": [],
   "source": [
    "x='abcdefghij'"
   ]
  },
  {
   "cell_type": "code",
   "execution_count": 57,
   "id": "f5375195-7e03-4d0f-ad79-b990b8d31ea5",
   "metadata": {},
   "outputs": [
    {
     "data": {
      "text/plain": [
       "'abcdefghij'"
      ]
     },
     "execution_count": 57,
     "metadata": {},
     "output_type": "execute_result"
    }
   ],
   "source": [
    "x"
   ]
  },
  {
   "cell_type": "code",
   "execution_count": 58,
   "id": "4765c987-baa2-4270-b1f1-f748b98aca22",
   "metadata": {},
   "outputs": [
    {
     "data": {
      "text/plain": [
       "'adgj'"
      ]
     },
     "execution_count": 58,
     "metadata": {},
     "output_type": "execute_result"
    }
   ],
   "source": [
    "x[::3]"
   ]
  },
  {
   "cell_type": "code",
   "execution_count": 59,
   "id": "51a708e3-5fe2-4768-bf5f-2d27a3c99054",
   "metadata": {},
   "outputs": [
    {
     "data": {
      "text/plain": [
       "'ceg'"
      ]
     },
     "execution_count": 59,
     "metadata": {},
     "output_type": "execute_result"
    }
   ],
   "source": [
    "x[2:8:2]"
   ]
  },
  {
   "cell_type": "code",
   "execution_count": 60,
   "id": "493770bb-6c01-442a-9bdd-c66e30856d25",
   "metadata": {},
   "outputs": [
    {
     "data": {
      "text/plain": [
       "'jihgfedcba'"
      ]
     },
     "execution_count": 60,
     "metadata": {},
     "output_type": "execute_result"
    }
   ],
   "source": [
    "x[::-1]"
   ]
  },
  {
   "cell_type": "code",
   "execution_count": 61,
   "id": "81fa82b8-44b4-4009-8b5c-17f81a80e432",
   "metadata": {},
   "outputs": [
    {
     "data": {
      "text/plain": [
       "'ihgfed'"
      ]
     },
     "execution_count": 61,
     "metadata": {},
     "output_type": "execute_result"
    }
   ],
   "source": [
    "x[8:2:-1]"
   ]
  },
  {
   "cell_type": "code",
   "execution_count": 62,
   "id": "d87f10cf-08c2-41ec-a4ad-f272b41ff647",
   "metadata": {},
   "outputs": [
    {
     "data": {
      "text/plain": [
       "'abcdefghij'"
      ]
     },
     "execution_count": 62,
     "metadata": {},
     "output_type": "execute_result"
    }
   ],
   "source": [
    "x"
   ]
  },
  {
   "cell_type": "code",
   "execution_count": null,
   "id": "f25eabfa-e8c6-434a-87e7-9f88419a35f2",
   "metadata": {},
   "outputs": [],
   "source": []
  },
  {
   "cell_type": "code",
   "execution_count": 63,
   "id": "4b64ca4e-3d07-4401-8ed0-1f57fba2c588",
   "metadata": {},
   "outputs": [],
   "source": [
    "x='data'"
   ]
  },
  {
   "cell_type": "code",
   "execution_count": 64,
   "id": "fac08f7c-f894-4ee4-89af-7c9f17bb9623",
   "metadata": {},
   "outputs": [
    {
     "data": {
      "text/plain": [
       "'data'"
      ]
     },
     "execution_count": 64,
     "metadata": {},
     "output_type": "execute_result"
    }
   ],
   "source": [
    "x"
   ]
  },
  {
   "cell_type": "code",
   "execution_count": null,
   "id": "9b12db82-cc76-4c75-8dff-dab50fa35155",
   "metadata": {},
   "outputs": [],
   "source": []
  },
  {
   "cell_type": "code",
   "execution_count": null,
   "id": "07bf1c4e-9164-4e9f-af7d-ac797be5d701",
   "metadata": {},
   "outputs": [],
   "source": []
  },
  {
   "cell_type": "code",
   "execution_count": null,
   "id": "5988749b-85ad-4439-a1e4-3ca46aacd5a4",
   "metadata": {},
   "outputs": [],
   "source": []
  },
  {
   "cell_type": "code",
   "execution_count": 68,
   "id": "cc424cf0-73fa-4ad0-a205-6f1715ac2b41",
   "metadata": {},
   "outputs": [],
   "source": [
    "str1= \"data science\"\n",
    "str2= \"Data Engineering\"\n",
    "str3= \"edukorn\"\n"
   ]
  },
  {
   "cell_type": "code",
   "execution_count": 66,
   "id": "4aebd5ed-24eb-4178-b975-16d70bf02a1f",
   "metadata": {},
   "outputs": [
    {
     "name": "stdout",
     "output_type": "stream",
     "text": [
      "12\n"
     ]
    }
   ],
   "source": [
    "print(len(str1))"
   ]
  },
  {
   "cell_type": "code",
   "execution_count": 67,
   "id": "eca4e032-917b-4380-bc56-8287de62ef91",
   "metadata": {},
   "outputs": [
    {
     "name": "stdout",
     "output_type": "stream",
     "text": [
      "DATA SCIENCE\n"
     ]
    }
   ],
   "source": [
    "print(str1.upper())"
   ]
  },
  {
   "cell_type": "code",
   "execution_count": 70,
   "id": "8e0f0069-9f6a-4b96-bd60-2c9d4a3fdf08",
   "metadata": {},
   "outputs": [
    {
     "name": "stdout",
     "output_type": "stream",
     "text": [
      "data engineering\n"
     ]
    }
   ],
   "source": [
    "print(str2.lower())"
   ]
  },
  {
   "cell_type": "code",
   "execution_count": 71,
   "id": "76a5ff04-0554-4400-a9ae-6d197ffa6255",
   "metadata": {},
   "outputs": [
    {
     "data": {
      "text/plain": [
       "False"
      ]
     },
     "execution_count": 71,
     "metadata": {},
     "output_type": "execute_result"
    }
   ],
   "source": [
    "\"Data Science\" == \"data science\""
   ]
  },
  {
   "cell_type": "code",
   "execution_count": 72,
   "id": "34c72796-aac7-42e9-acff-e0f679d63bd9",
   "metadata": {},
   "outputs": [
    {
     "data": {
      "text/plain": [
       "False"
      ]
     },
     "execution_count": 72,
     "metadata": {},
     "output_type": "execute_result"
    }
   ],
   "source": [
    "str2=\"Data science\"\n",
    "str2.islower()"
   ]
  },
  {
   "cell_type": "code",
   "execution_count": 73,
   "id": "94f78aa2-c8c7-4fa9-84c5-bd073292be69",
   "metadata": {},
   "outputs": [
    {
     "data": {
      "text/plain": [
       "True"
      ]
     },
     "execution_count": 73,
     "metadata": {},
     "output_type": "execute_result"
    }
   ],
   "source": [
    "str2=\"data science\"\n",
    "str2.islower()"
   ]
  },
  {
   "cell_type": "code",
   "execution_count": 74,
   "id": "54ba8b6b-5e2a-4ddb-8c78-7f7c90584a1d",
   "metadata": {},
   "outputs": [
    {
     "data": {
      "text/plain": [
       "False"
      ]
     },
     "execution_count": 74,
     "metadata": {},
     "output_type": "execute_result"
    }
   ],
   "source": [
    "str2=\"data science\"\n",
    "str2.isupper()"
   ]
  },
  {
   "cell_type": "code",
   "execution_count": 76,
   "id": "7821b27f-0323-4943-85a0-d725cbf42164",
   "metadata": {},
   "outputs": [
    {
     "data": {
      "text/plain": [
       "True"
      ]
     },
     "execution_count": 76,
     "metadata": {},
     "output_type": "execute_result"
    }
   ],
   "source": [
    "str2=\"DATA SCIENCE\"\n",
    "str2.isupper()"
   ]
  },
  {
   "cell_type": "code",
   "execution_count": 77,
   "id": "e0d35d4f-4023-431e-b2b2-3b5123ff307f",
   "metadata": {},
   "outputs": [],
   "source": [
    "x='data science'"
   ]
  },
  {
   "cell_type": "code",
   "execution_count": 78,
   "id": "555e63da-9402-484d-87a3-43a7f0db5cd8",
   "metadata": {},
   "outputs": [
    {
     "data": {
      "text/plain": [
       "'data science'"
      ]
     },
     "execution_count": 78,
     "metadata": {},
     "output_type": "execute_result"
    }
   ],
   "source": [
    "x"
   ]
  },
  {
   "cell_type": "code",
   "execution_count": 79,
   "id": "3add49ff-2072-4aac-af63-7e9d63876a24",
   "metadata": {},
   "outputs": [
    {
     "data": {
      "text/plain": [
       "'Data Science'"
      ]
     },
     "execution_count": 79,
     "metadata": {},
     "output_type": "execute_result"
    }
   ],
   "source": [
    "x.title()"
   ]
  },
  {
   "cell_type": "code",
   "execution_count": 80,
   "id": "9c22a4d3-9550-4fe1-8897-d44d67e18b97",
   "metadata": {},
   "outputs": [
    {
     "data": {
      "text/plain": [
       "'data science'"
      ]
     },
     "execution_count": 80,
     "metadata": {},
     "output_type": "execute_result"
    }
   ],
   "source": [
    "x"
   ]
  },
  {
   "cell_type": "code",
   "execution_count": 82,
   "id": "4b720e2d-82d8-4b7d-a191-798b3995597a",
   "metadata": {},
   "outputs": [
    {
     "data": {
      "text/plain": [
       "'Data science'"
      ]
     },
     "execution_count": 82,
     "metadata": {},
     "output_type": "execute_result"
    }
   ],
   "source": [
    "x.capitalize()"
   ]
  },
  {
   "cell_type": "code",
   "execution_count": null,
   "id": "0da06f7b-ece9-4063-9487-f57a77bf5724",
   "metadata": {},
   "outputs": [],
   "source": []
  },
  {
   "cell_type": "code",
   "execution_count": 84,
   "id": "6e35cfdc-6835-409a-be93-b209f830b18d",
   "metadata": {},
   "outputs": [
    {
     "data": {
      "text/plain": [
       "'data science'"
      ]
     },
     "execution_count": 84,
     "metadata": {},
     "output_type": "execute_result"
    }
   ],
   "source": [
    "x"
   ]
  },
  {
   "cell_type": "code",
   "execution_count": 85,
   "id": "3ab76912-5627-451a-9514-1ac671198b93",
   "metadata": {},
   "outputs": [
    {
     "data": {
      "text/plain": [
       "'DATA SCIENCE'"
      ]
     },
     "execution_count": 85,
     "metadata": {},
     "output_type": "execute_result"
    }
   ],
   "source": [
    "x.swapcase()"
   ]
  },
  {
   "cell_type": "code",
   "execution_count": 86,
   "id": "ac3b74b3-6358-4f0f-b661-33105a410f46",
   "metadata": {},
   "outputs": [
    {
     "data": {
      "text/plain": [
       "'C:\\\\Users\\\\Lenovo'"
      ]
     },
     "execution_count": 86,
     "metadata": {},
     "output_type": "execute_result"
    }
   ],
   "source": [
    "pwd\n"
   ]
  },
  {
   "cell_type": "code",
   "execution_count": null,
   "id": "9d845f2d-a815-4e4c-aefe-bf0cf23aa7b7",
   "metadata": {},
   "outputs": [],
   "source": []
  }
 ],
 "metadata": {
  "kernelspec": {
   "display_name": "Python 3 (ipykernel)",
   "language": "python",
   "name": "python3"
  },
  "language_info": {
   "codemirror_mode": {
    "name": "ipython",
    "version": 3
   },
   "file_extension": ".py",
   "mimetype": "text/x-python",
   "name": "python",
   "nbconvert_exporter": "python",
   "pygments_lexer": "ipython3",
   "version": "3.13.2"
  }
 },
 "nbformat": 4,
 "nbformat_minor": 5
}
