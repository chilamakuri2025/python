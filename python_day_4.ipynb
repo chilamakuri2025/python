{
 "cells": [
  {
   "cell_type": "code",
   "execution_count": 1,
   "id": "90edf786-ee14-41e6-9d23-e914cd510d2d",
   "metadata": {},
   "outputs": [],
   "source": [
    "#boolean operators\n",
    "#true\n",
    "#false"
   ]
  },
  {
   "cell_type": "code",
   "execution_count": 2,
   "id": "782832a6-cd4e-4c29-ab3e-c2b621943366",
   "metadata": {},
   "outputs": [],
   "source": [
    "#arthithematic operators\n",
    "#addition,substraction,mul,div,floordivision,modulo,expo"
   ]
  },
  {
   "cell_type": "code",
   "execution_count": 3,
   "id": "09584b47-6ca0-444f-b92a-b4e6484c679d",
   "metadata": {},
   "outputs": [
    {
     "name": "stdout",
     "output_type": "stream",
     "text": [
      "30\n"
     ]
    }
   ],
   "source": [
    "a=10\n",
    "b=20\n",
    "print(a+b)"
   ]
  },
  {
   "cell_type": "code",
   "execution_count": 4,
   "id": "15c1f950-2054-431a-8cec-8a787e6536d9",
   "metadata": {},
   "outputs": [
    {
     "name": "stdout",
     "output_type": "stream",
     "text": [
      "-10\n"
     ]
    }
   ],
   "source": [
    "a=10\n",
    "b=20\n",
    "print(a-b)"
   ]
  },
  {
   "cell_type": "code",
   "execution_count": 5,
   "id": "a99626d9-3ab7-4529-a90b-23dfe88c6e2a",
   "metadata": {},
   "outputs": [
    {
     "name": "stdout",
     "output_type": "stream",
     "text": [
      "200\n"
     ]
    }
   ],
   "source": [
    "a=10\n",
    "b=20\n",
    "print(a*b)"
   ]
  },
  {
   "cell_type": "code",
   "execution_count": 6,
   "id": "d014290c-62fc-4bdf-8d52-f4b9eec84ec9",
   "metadata": {},
   "outputs": [
    {
     "name": "stdout",
     "output_type": "stream",
     "text": [
      "0.5\n"
     ]
    }
   ],
   "source": [
    "a=10\n",
    "b=20\n",
    "print(a/b)"
   ]
  },
  {
   "cell_type": "code",
   "execution_count": 7,
   "id": "a2660afd-413f-4cfc-be0f-16397024325b",
   "metadata": {},
   "outputs": [
    {
     "name": "stdout",
     "output_type": "stream",
     "text": [
      "10\n"
     ]
    }
   ],
   "source": [
    "a=10\n",
    "b=20\n",
    "print(a%b)"
   ]
  },
  {
   "cell_type": "code",
   "execution_count": 9,
   "id": "522129b5-c231-4f84-8587-14815297683d",
   "metadata": {},
   "outputs": [
    {
     "name": "stdout",
     "output_type": "stream",
     "text": [
      "3\n"
     ]
    }
   ],
   "source": [
    "a=60\n",
    "b=20\n",
    "print(a//b)"
   ]
  },
  {
   "cell_type": "code",
   "execution_count": 10,
   "id": "6f38532d-9d8e-4b2d-9cb9-3f98f11b6851",
   "metadata": {},
   "outputs": [
    {
     "data": {
      "text/plain": [
       "8"
      ]
     },
     "execution_count": 10,
     "metadata": {},
     "output_type": "execute_result"
    }
   ],
   "source": [
    "a=2\n",
    "b=3\n",
    "a**b(power)"
   ]
  },
  {
   "cell_type": "code",
   "execution_count": 11,
   "id": "8ede3ec8-2cd2-47ae-be66-46b02911de59",
   "metadata": {},
   "outputs": [],
   "source": [
    "#comparison operators"
   ]
  },
  {
   "cell_type": "code",
   "execution_count": 12,
   "id": "c7680e93-4a4b-41fe-8bf3-39d4f5662d98",
   "metadata": {},
   "outputs": [],
   "source": [
    "x=10\n",
    "y=20"
   ]
  },
  {
   "cell_type": "code",
   "execution_count": 13,
   "id": "020b6a6d-4d1e-43a4-bdc0-7e0ffc34f29e",
   "metadata": {},
   "outputs": [
    {
     "data": {
      "text/plain": [
       "(True, False, True, False, False, True)"
      ]
     },
     "execution_count": 13,
     "metadata": {},
     "output_type": "execute_result"
    }
   ],
   "source": [
    "x<y,x>y,x<=y,x>=y,x==y,x!=y"
   ]
  },
  {
   "cell_type": "code",
   "execution_count": 16,
   "id": "c032e59a-9272-41b0-a44c-a261259664ba",
   "metadata": {},
   "outputs": [
    {
     "data": {
      "text/plain": [
       "False"
      ]
     },
     "execution_count": 16,
     "metadata": {},
     "output_type": "execute_result"
    }
   ],
   "source": [
    "x='Data'\n",
    "y='data'\n",
    "x==y"
   ]
  },
  {
   "cell_type": "code",
   "execution_count": 18,
   "id": "d5be0856-cdfa-4078-b935-f27e4b8b407d",
   "metadata": {},
   "outputs": [
    {
     "data": {
      "text/plain": [
       "True"
      ]
     },
     "execution_count": 18,
     "metadata": {},
     "output_type": "execute_result"
    }
   ],
   "source": [
    "x='Data'\n",
    "y='data'\n",
    "x.lower()==y"
   ]
  },
  {
   "cell_type": "code",
   "execution_count": 20,
   "id": "28c0b38d-e55a-4207-926d-c0f3f4af0168",
   "metadata": {},
   "outputs": [
    {
     "data": {
      "text/plain": [
       "True"
      ]
     },
     "execution_count": 20,
     "metadata": {},
     "output_type": "execute_result"
    }
   ],
   "source": [
    "x='Data'\n",
    "y='data'\n",
    "x.title()==y.capitalize()"
   ]
  },
  {
   "cell_type": "code",
   "execution_count": null,
   "id": "15fab489-9367-4e54-8b6b-f2a796433bec",
   "metadata": {},
   "outputs": [],
   "source": []
  },
  {
   "cell_type": "code",
   "execution_count": 21,
   "id": "a5e57346-2fc4-4858-b6f3-61b1850ea352",
   "metadata": {},
   "outputs": [],
   "source": [
    "#logical operatores and or not"
   ]
  },
  {
   "cell_type": "code",
   "execution_count": 22,
   "id": "4bd3f471-4f7e-4699-adce-af5a365be585",
   "metadata": {},
   "outputs": [],
   "source": [
    "x=10\n",
    "y=20"
   ]
  },
  {
   "cell_type": "code",
   "execution_count": 23,
   "id": "35d9ff68-f127-4661-9dcb-874edf1e6ce7",
   "metadata": {},
   "outputs": [
    {
     "data": {
      "text/plain": [
       "True"
      ]
     },
     "execution_count": 23,
     "metadata": {},
     "output_type": "execute_result"
    }
   ],
   "source": [
    "x>2 and y>2"
   ]
  },
  {
   "cell_type": "code",
   "execution_count": 25,
   "id": "2ae05869-3a0f-48ae-865a-d516993bd680",
   "metadata": {},
   "outputs": [
    {
     "name": "stdout",
     "output_type": "stream",
     "text": [
      "True\n",
      "False\n",
      "False\n",
      "False\n"
     ]
    }
   ],
   "source": [
    "print(True and True)\n",
    "print(False and True)\n",
    "print(True and False)\n",
    "print(False and False)"
   ]
  },
  {
   "cell_type": "code",
   "execution_count": 26,
   "id": "a47ffca2-f218-4596-9f15-9d4ee722b8be",
   "metadata": {},
   "outputs": [
    {
     "name": "stdout",
     "output_type": "stream",
     "text": [
      "True\n",
      "True\n",
      "True\n",
      "False\n"
     ]
    }
   ],
   "source": [
    "print(True or True)\n",
    "print(False or True)\n",
    "print(True or False)\n",
    "print(False or False)"
   ]
  },
  {
   "cell_type": "code",
   "execution_count": 28,
   "id": "0f151105-388c-49a7-8e11-1a68bf746c99",
   "metadata": {},
   "outputs": [
    {
     "name": "stdout",
     "output_type": "stream",
     "text": [
      "False\n",
      "False\n",
      "False\n",
      "True\n"
     ]
    }
   ],
   "source": [
    "print(not(True or True))\n",
    "print(not(False or True))\n",
    "print(not(True or False))\n",
    "print(not(False or False))"
   ]
  },
  {
   "cell_type": "code",
   "execution_count": 29,
   "id": "a56612c4-fb97-44ae-953c-05c7f74393a3",
   "metadata": {},
   "outputs": [],
   "source": [
    "#identity operators"
   ]
  },
  {
   "cell_type": "code",
   "execution_count": 30,
   "id": "72f1e574-1ee6-4f40-b203-3cb4120376ec",
   "metadata": {},
   "outputs": [],
   "source": [
    "#is,isnot,in,not in"
   ]
  },
  {
   "cell_type": "code",
   "execution_count": 31,
   "id": "f1e66808-9f4f-4a0b-a98e-eb1a32e1afdd",
   "metadata": {},
   "outputs": [
    {
     "data": {
      "text/plain": [
       "True"
      ]
     },
     "execution_count": 31,
     "metadata": {},
     "output_type": "execute_result"
    }
   ],
   "source": [
    "x=10\n",
    "y=10\n",
    "x is y"
   ]
  },
  {
   "cell_type": "code",
   "execution_count": 32,
   "id": "34949b32-3b9f-47be-a36d-5f2eeb15732b",
   "metadata": {},
   "outputs": [],
   "source": [
    "x=[1,2,3]\n",
    "y=x\n",
    "z=[1,2,3]"
   ]
  },
  {
   "cell_type": "code",
   "execution_count": 33,
   "id": "0be4c25c-2cac-4e8c-bca7-4515c9ad6764",
   "metadata": {},
   "outputs": [
    {
     "data": {
      "text/plain": [
       "False"
      ]
     },
     "execution_count": 33,
     "metadata": {},
     "output_type": "execute_result"
    }
   ],
   "source": [
    "x is z"
   ]
  },
  {
   "cell_type": "code",
   "execution_count": 34,
   "id": "724ae824-fc6e-4684-8385-acbe475769a3",
   "metadata": {},
   "outputs": [],
   "source": [
    "x=[1,2,3]\n",
    "y=[1,2,3]"
   ]
  },
  {
   "cell_type": "code",
   "execution_count": 35,
   "id": "0d63e750-cf76-4079-8d64-000169da6545",
   "metadata": {},
   "outputs": [
    {
     "data": {
      "text/plain": [
       "True"
      ]
     },
     "execution_count": 35,
     "metadata": {},
     "output_type": "execute_result"
    }
   ],
   "source": [
    "x is not y"
   ]
  },
  {
   "cell_type": "code",
   "execution_count": 36,
   "id": "020e2fa6-05dd-4d70-a3a5-a371a495e639",
   "metadata": {},
   "outputs": [],
   "source": [
    "#in notin"
   ]
  },
  {
   "cell_type": "code",
   "execution_count": 37,
   "id": "c87d2f75-5ae7-4131-846e-7f94790f7de4",
   "metadata": {},
   "outputs": [
    {
     "data": {
      "text/plain": [
       "True"
      ]
     },
     "execution_count": 37,
     "metadata": {},
     "output_type": "execute_result"
    }
   ],
   "source": [
    "'data' in'data science'"
   ]
  },
  {
   "cell_type": "code",
   "execution_count": 38,
   "id": "15c01fe1-3c76-4074-a20a-c3caa7cc4fa4",
   "metadata": {},
   "outputs": [
    {
     "data": {
      "text/plain": [
       "True"
      ]
     },
     "execution_count": 38,
     "metadata": {},
     "output_type": "execute_result"
    }
   ],
   "source": [
    "1 in[1,2,3]"
   ]
  },
  {
   "cell_type": "code",
   "execution_count": 40,
   "id": "ba45bbac-0e4a-45a0-b00b-e2d6cd3f22e6",
   "metadata": {},
   "outputs": [
    {
     "name": "stdout",
     "output_type": "stream",
     "text": [
      "True\n"
     ]
    }
   ],
   "source": [
    "student ={\n",
    "    'name':'Alice',\n",
    "    'age':22,\n",
    "    'grade':'A'\n",
    "}\n",
    "print(\"grade \" not in student)"
   ]
  },
  {
   "cell_type": "code",
   "execution_count": null,
   "id": "ee654e3e-88e4-4aaa-b6e0-62643f1c9aa8",
   "metadata": {},
   "outputs": [],
   "source": []
  },
  {
   "cell_type": "code",
   "execution_count": 41,
   "id": "05abf0d2-b43d-4f17-92e9-01adba711cf8",
   "metadata": {},
   "outputs": [
    {
     "data": {
      "text/plain": [
       "'0b11110'"
      ]
     },
     "execution_count": 41,
     "metadata": {},
     "output_type": "execute_result"
    }
   ],
   "source": [
    "bin(30)"
   ]
  },
  {
   "cell_type": "code",
   "execution_count": 42,
   "id": "75033b4a-a2ec-467e-bf6a-d8ae92a1740f",
   "metadata": {},
   "outputs": [
    {
     "data": {
      "text/plain": [
       "'0b11111'"
      ]
     },
     "execution_count": 42,
     "metadata": {},
     "output_type": "execute_result"
    }
   ],
   "source": [
    "bin(31)"
   ]
  },
  {
   "cell_type": "code",
   "execution_count": 43,
   "id": "eb6bff75-d977-4a00-9828-61faf9b42aeb",
   "metadata": {},
   "outputs": [
    {
     "data": {
      "text/plain": [
       "'0b111111'"
      ]
     },
     "execution_count": 43,
     "metadata": {},
     "output_type": "execute_result"
    }
   ],
   "source": [
    "bin(63)"
   ]
  },
  {
   "cell_type": "code",
   "execution_count": 44,
   "id": "a226c66a-6d5e-4700-b3c2-fb512dcfdc09",
   "metadata": {},
   "outputs": [
    {
     "data": {
      "text/plain": [
       "('0b11110', '0b11111')"
      ]
     },
     "execution_count": 44,
     "metadata": {},
     "output_type": "execute_result"
    }
   ],
   "source": [
    "bin(30),bin(31)"
   ]
  },
  {
   "cell_type": "code",
   "execution_count": 47,
   "id": "fd0fe05a-bd40-4f47-9755-8828d7c72f85",
   "metadata": {},
   "outputs": [
    {
     "ename": "SyntaxError",
     "evalue": "invalid syntax (3896173039.py, line 2)",
     "output_type": "error",
     "traceback": [
      "  \u001b[36mCell\u001b[39m\u001b[36m \u001b[39m\u001b[32mIn[47]\u001b[39m\u001b[32m, line 2\u001b[39m\n\u001b[31m    \u001b[39m\u001b[31mand\u001b[39m\n    ^\n\u001b[31mSyntaxError\u001b[39m\u001b[31m:\u001b[39m invalid syntax\n"
     ]
    }
   ],
   "source": [
    "11110\n",
    "and\n",
    "11111"
   ]
  },
  {
   "cell_type": "code",
   "execution_count": 49,
   "id": "cba09626-5531-465f-b1a4-ccabb9e6a2bd",
   "metadata": {},
   "outputs": [
    {
     "ename": "SyntaxError",
     "evalue": "invalid syntax (3896173039.py, line 2)",
     "output_type": "error",
     "traceback": [
      "  \u001b[36mCell\u001b[39m\u001b[36m \u001b[39m\u001b[32mIn[49]\u001b[39m\u001b[32m, line 2\u001b[39m\n\u001b[31m    \u001b[39m\u001b[31mand\u001b[39m\n    ^\n\u001b[31mSyntaxError\u001b[39m\u001b[31m:\u001b[39m invalid syntax\n"
     ]
    }
   ],
   "source": [
    "11110\n",
    "and\n",
    "11111"
   ]
  },
  {
   "cell_type": "code",
   "execution_count": 50,
   "id": "7622d1ae-4086-4582-80ba-ca88b7fbbd5a",
   "metadata": {},
   "outputs": [
    {
     "data": {
      "text/plain": [
       "30"
      ]
     },
     "execution_count": 50,
     "metadata": {},
     "output_type": "execute_result"
    }
   ],
   "source": [
    "30 & 31"
   ]
  },
  {
   "cell_type": "code",
   "execution_count": 51,
   "id": "efcbf379-1625-4e3c-8210-6e2215082853",
   "metadata": {},
   "outputs": [
    {
     "data": {
      "text/plain": [
       "31"
      ]
     },
     "execution_count": 51,
     "metadata": {},
     "output_type": "execute_result"
    }
   ],
   "source": [
    "30 | 31"
   ]
  },
  {
   "cell_type": "code",
   "execution_count": 52,
   "id": "3e4f2725-e99c-4568-9d25-edfda6b7a7a3",
   "metadata": {},
   "outputs": [
    {
     "data": {
      "text/plain": [
       "'0b10101'"
      ]
     },
     "execution_count": 52,
     "metadata": {},
     "output_type": "execute_result"
    }
   ],
   "source": [
    "bin(21)"
   ]
  },
  {
   "cell_type": "code",
   "execution_count": 53,
   "id": "cc5ce544-bb16-4a1f-910a-1f2d9cc71d93",
   "metadata": {},
   "outputs": [
    {
     "data": {
      "text/plain": [
       "'0b100101'"
      ]
     },
     "execution_count": 53,
     "metadata": {},
     "output_type": "execute_result"
    }
   ],
   "source": [
    "bin(37)"
   ]
  },
  {
   "cell_type": "code",
   "execution_count": 54,
   "id": "1d68b94a-a783-400c-a03c-ef3e82a41356",
   "metadata": {},
   "outputs": [
    {
     "data": {
      "text/plain": [
       "5"
      ]
     },
     "execution_count": 54,
     "metadata": {},
     "output_type": "execute_result"
    }
   ],
   "source": [
    "21 & 37"
   ]
  },
  {
   "cell_type": "code",
   "execution_count": 55,
   "id": "a59215b5-a039-4704-8369-8ef2c62a2c4a",
   "metadata": {},
   "outputs": [
    {
     "data": {
      "text/plain": [
       "53"
      ]
     },
     "execution_count": 55,
     "metadata": {},
     "output_type": "execute_result"
    }
   ],
   "source": [
    "21 | 37"
   ]
  },
  {
   "cell_type": "code",
   "execution_count": 56,
   "id": "69c64323-0421-472a-b4ef-d362b510665c",
   "metadata": {},
   "outputs": [],
   "source": [
    "###loops and control structure"
   ]
  },
  {
   "cell_type": "code",
   "execution_count": 57,
   "id": "8a0661c4-e968-4b63-bc3e-d8ef965b46f3",
   "metadata": {},
   "outputs": [
    {
     "ename": "NameError",
     "evalue": "name 'condition' is not defined",
     "output_type": "error",
     "traceback": [
      "\u001b[31m---------------------------------------------------------------------------\u001b[39m",
      "\u001b[31mNameError\u001b[39m                                 Traceback (most recent call last)",
      "\u001b[36mCell\u001b[39m\u001b[36m \u001b[39m\u001b[32mIn[57]\u001b[39m\u001b[32m, line 1\u001b[39m\n\u001b[32m----> \u001b[39m\u001b[32m1\u001b[39m \u001b[38;5;28;01mif\u001b[39;00m \u001b[43mcondition\u001b[49m:\n\u001b[32m      2\u001b[39m     \u001b[38;5;28mprint\u001b[39m(\u001b[33m\"\u001b[39m\u001b[33mstatement\u001b[39m\u001b[33m\"\u001b[39m)\n",
      "\u001b[31mNameError\u001b[39m: name 'condition' is not defined"
     ]
    }
   ],
   "source": [
    "if condition:\n",
    "    print(\"statement\")"
   ]
  },
  {
   "cell_type": "code",
   "execution_count": 58,
   "id": "d7e45b35-8179-4dec-b716-533108803b9e",
   "metadata": {},
   "outputs": [
    {
     "name": "stdout",
     "output_type": "stream",
     "text": [
      "data\n"
     ]
    }
   ],
   "source": [
    "x=10\n",
    "if x<20:\n",
    "    print('data')"
   ]
  },
  {
   "cell_type": "code",
   "execution_count": 60,
   "id": "1fc6a623-b406-42a6-ab44-25fd74d3b903",
   "metadata": {},
   "outputs": [],
   "source": [
    "x='data science'\n",
    "if x.isalpha():\n",
    "    print('test')"
   ]
  },
  {
   "cell_type": "code",
   "execution_count": 61,
   "id": "b31ded59-806c-4f8b-a56e-aba342977b68",
   "metadata": {},
   "outputs": [
    {
     "name": "stdout",
     "output_type": "stream",
     "text": [
      "test\n"
     ]
    }
   ],
   "source": [
    "x='datascience'\n",
    "if x.isalpha():\n",
    "    print('test')"
   ]
  },
  {
   "cell_type": "code",
   "execution_count": 62,
   "id": "f06b98f8-5c4d-458c-97ac-dda14fe6b031",
   "metadata": {},
   "outputs": [
    {
     "name": "stdout",
     "output_type": "stream",
     "text": [
      "Test\n"
     ]
    }
   ],
   "source": [
    "x='123'\n",
    "if x.isalnum():\n",
    "    print('Test')"
   ]
  },
  {
   "cell_type": "code",
   "execution_count": 65,
   "id": "8654d819-b34d-4dbc-85d2-8fd8f8c64238",
   "metadata": {},
   "outputs": [],
   "source": [
    "x='123'\n",
    "if x.isalnum() and len(x)>5:\n",
    "    print('test')"
   ]
  },
  {
   "cell_type": "code",
   "execution_count": 66,
   "id": "8b0a0e9b-3140-42c0-80b5-163b39670e74",
   "metadata": {},
   "outputs": [
    {
     "name": "stdout",
     "output_type": "stream",
     "text": [
      "test\n"
     ]
    }
   ],
   "source": [
    "x='123'\n",
    "if x.isalnum() or len(x)>5:\n",
    "    print('test')"
   ]
  },
  {
   "cell_type": "code",
   "execution_count": 72,
   "id": "0f48eade-3d75-409e-a15b-31de092bfb95",
   "metadata": {},
   "outputs": [
    {
     "name": "stdout",
     "output_type": "stream",
     "text": [
      "edukron\n"
     ]
    }
   ],
   "source": [
    "x='Data'\n",
    "if x.startswith(\"d\"):\n",
    "    print('test')\n",
    "else:\n",
    "    print('edukron')"
   ]
  },
  {
   "cell_type": "code",
   "execution_count": 73,
   "id": "73eb2ddb-d3f8-4e33-bb3a-1875d35a5a95",
   "metadata": {},
   "outputs": [
    {
     "name": "stdout",
     "output_type": "stream",
     "text": [
      "test\n"
     ]
    }
   ],
   "source": [
    "x='Data'\n",
    "if x.startswith(\"d\".upper()):\n",
    "    print('test')\n",
    "else:\n",
    "    print('edukron')"
   ]
  },
  {
   "cell_type": "code",
   "execution_count": 79,
   "id": "086a6272-f6be-47f8-9504-d7790967f3d1",
   "metadata": {},
   "outputs": [
    {
     "name": "stdout",
     "output_type": "stream",
     "text": [
      "login success\n"
     ]
    }
   ],
   "source": [
    "username = \"admin\"\n",
    "password = \"admin123\"\n",
    "if username == \"admin\" and password == \"admin123\":\n",
    "    print('login success')\n",
    "else:\n",
    "    print (\"inalid credentials\")"
   ]
  },
  {
   "cell_type": "code",
   "execution_count": null,
   "id": "492b0fd9-3b80-4229-bf62-11fb16128897",
   "metadata": {},
   "outputs": [],
   "source": []
  },
  {
   "cell_type": "code",
   "execution_count": 84,
   "id": "cb40b363-f2d5-4c15-b0f5-3e70a3b3ac74",
   "metadata": {},
   "outputs": [
    {
     "name": "stdout",
     "output_type": "stream",
     "text": [
      "210 20\n"
     ]
    }
   ],
   "source": [
    "x=10\n",
    "y=20\n",
    "if x>2:\n",
    "    x=x+200\n",
    "else:\n",
    "    y=200+x\n",
    "print(x,y)"
   ]
  },
  {
   "cell_type": "code",
   "execution_count": 85,
   "id": "06dd3969-19e4-4cee-b003-adf20c746422",
   "metadata": {},
   "outputs": [
    {
     "name": "stdout",
     "output_type": "stream",
     "text": [
      "1 201\n"
     ]
    }
   ],
   "source": [
    "x=1\n",
    "y=20\n",
    "if x>2:\n",
    "    x=x+200\n",
    "else:\n",
    "    y=200+x\n",
    "print(x,y)"
   ]
  },
  {
   "cell_type": "code",
   "execution_count": 87,
   "id": "04adde80-7dcf-4c17-bb5d-8d26295f6077",
   "metadata": {},
   "outputs": [
    {
     "name": "stdout",
     "output_type": "stream",
     "text": [
      "15 13\n"
     ]
    }
   ],
   "source": [
    "x=10\n",
    "y=20\n",
    "if x>5:\n",
    "    x=x+5\n",
    "    y=x-2\n",
    "    x=y+2\n",
    "else:\n",
    "    x=x+1\n",
    "    y=y+2\n",
    "print(x,y)"
   ]
  },
  {
   "cell_type": "code",
   "execution_count": 88,
   "id": "8accbb6a-fd09-4496-833f-3e83e1040c50",
   "metadata": {},
   "outputs": [
    {
     "name": "stdout",
     "output_type": "stream",
     "text": [
      "2 22\n"
     ]
    }
   ],
   "source": [
    "x=1\n",
    "y=20\n",
    "if x>5:\n",
    "    x=x+5\n",
    "    y=x-2\n",
    "    x=y+2\n",
    "else:\n",
    "    x=x+1\n",
    "    y=y+2\n",
    "print(x,y)"
   ]
  },
  {
   "cell_type": "code",
   "execution_count": 89,
   "id": "6e5a43c0-3725-477b-98b2-870c27903cec",
   "metadata": {},
   "outputs": [],
   "source": [
    "#for loop and Wile loop"
   ]
  },
  {
   "cell_type": "code",
   "execution_count": 90,
   "id": "e53466d2-0ed6-44f9-82df-5e7a5b531869",
   "metadata": {},
   "outputs": [
    {
     "name": "stdout",
     "output_type": "stream",
     "text": [
      "d\n",
      "a\n",
      "t\n",
      "a\n"
     ]
    }
   ],
   "source": [
    "x='data'\n",
    "for i in x:\n",
    "    print(i)\n"
   ]
  },
  {
   "cell_type": "code",
   "execution_count": 92,
   "id": "a055f3be-e153-4fbc-8fe6-6f496a2d9f39",
   "metadata": {},
   "outputs": [
    {
     "name": "stdout",
     "output_type": "stream",
     "text": [
      "D\n",
      "A\n",
      "T\n",
      "A\n"
     ]
    }
   ],
   "source": [
    "x='data'\n",
    "for i in x:\n",
    "    print(i.upper())"
   ]
  },
  {
   "cell_type": "code",
   "execution_count": 94,
   "id": "05920b33-030d-477c-bf9a-579e15e19179",
   "metadata": {},
   "outputs": [
    {
     "name": "stdout",
     "output_type": "stream",
     "text": [
      "True\n",
      "True\n",
      "True\n",
      "True\n"
     ]
    }
   ],
   "source": [
    "x='data'\n",
    "for i in x:\n",
    "    print(i.isalpha())"
   ]
  },
  {
   "cell_type": "code",
   "execution_count": 95,
   "id": "b7c093f9-57f1-4fec-a3fb-4e0e3b396a0c",
   "metadata": {},
   "outputs": [
    {
     "name": "stdout",
     "output_type": "stream",
     "text": [
      "True\n",
      "True\n",
      "True\n",
      "True\n",
      "False\n"
     ]
    }
   ],
   "source": [
    "x='data7'\n",
    "for i in x:\n",
    "    print(i.isalpha())"
   ]
  },
  {
   "cell_type": "code",
   "execution_count": 96,
   "id": "2a0723e1-23cc-4ae8-bd51-b1ee6da15576",
   "metadata": {},
   "outputs": [],
   "source": [
    "x=[1,2,3,\"data\",[4,5,6,\"Data\"]]"
   ]
  },
  {
   "cell_type": "code",
   "execution_count": 97,
   "id": "bd1cf768-e6d4-4aa0-b4da-6aa135da5674",
   "metadata": {},
   "outputs": [
    {
     "name": "stdout",
     "output_type": "stream",
     "text": [
      "1\n",
      "1\n",
      "1\n",
      "4\n",
      "17\n"
     ]
    }
   ],
   "source": [
    "for i in x:\n",
    "    print(len(str(i)))\n"
   ]
  },
  {
   "cell_type": "code",
   "execution_count": 99,
   "id": "9fc7606d-73e0-4321-8f65-79af4faf8d1d",
   "metadata": {},
   "outputs": [
    {
     "name": "stdout",
     "output_type": "stream",
     "text": [
      "4\n",
      "7\n",
      "8\n",
      "8\n"
     ]
    }
   ],
   "source": [
    "x='Data science meachine learning'\n",
    "for i in x.split():\n",
    "    print(len(i))"
   ]
  },
  {
   "cell_type": "code",
   "execution_count": 100,
   "id": "78b6e327-6218-4ed8-903a-490fb69078f6",
   "metadata": {},
   "outputs": [
    {
     "data": {
      "text/plain": [
       "'**'"
      ]
     },
     "execution_count": 100,
     "metadata": {},
     "output_type": "execute_result"
    }
   ],
   "source": [
    "'*'*2"
   ]
  },
  {
   "cell_type": "code",
   "execution_count": 101,
   "id": "24aa16c5-2707-453a-a740-7b6cd2bb102a",
   "metadata": {},
   "outputs": [
    {
     "name": "stdout",
     "output_type": "stream",
     "text": [
      "*\n",
      "**\n",
      "***\n",
      "****\n",
      "*****\n"
     ]
    }
   ],
   "source": [
    "for i in [1,2,3,4,5]:\n",
    "    print(\"*\"*i)"
   ]
  },
  {
   "cell_type": "code",
   "execution_count": 102,
   "id": "2a79f097-bc5b-46d8-9ace-5008b0d7b831",
   "metadata": {},
   "outputs": [
    {
     "name": "stdout",
     "output_type": "stream",
     "text": [
      "*****\n",
      "****\n",
      "***\n",
      "**\n",
      "*\n"
     ]
    }
   ],
   "source": [
    "for i in [1,2,3,4,5]:\n",
    "    print(\"*\"*(6-i))"
   ]
  },
  {
   "cell_type": "code",
   "execution_count": 104,
   "id": "7c03c431-de55-440d-a73f-a67fe34a1cd8",
   "metadata": {},
   "outputs": [
    {
     "name": "stdout",
     "output_type": "stream",
     "text": [
      "1,2,3,4,5,"
     ]
    }
   ],
   "source": [
    "for i in range(1,6):\n",
    "    print(i,end=',')\n"
   ]
  },
  {
   "cell_type": "code",
   "execution_count": 105,
   "id": "86e015bd-5c8d-4506-a7db-ed583edceb76",
   "metadata": {},
   "outputs": [
    {
     "name": "stdout",
     "output_type": "stream",
     "text": [
      "1,4,7,10,13,16,19,22,25,28,31,34,37,40,43,46,49,52,55,58,"
     ]
    }
   ],
   "source": [
    "for i in range(1,60,3):\n",
    "    print(i,end=',')\n"
   ]
  },
  {
   "cell_type": "code",
   "execution_count": 107,
   "id": "55853ef8-dee0-4a9b-9cb8-ad6b728b7d6f",
   "metadata": {},
   "outputs": [
    {
     "name": "stdout",
     "output_type": "stream",
     "text": [
      "0,2,4,6,8,10,12,14,16,18,20,22,24,26,28,30,32,34,36,38,40,42,44,46,48,"
     ]
    }
   ],
   "source": [
    "for i in range(0,50,2):\n",
    "    print(i,end=',')"
   ]
  },
  {
   "cell_type": "code",
   "execution_count": 108,
   "id": "695c8ef5-d674-4a7d-9c6b-510e9135d242",
   "metadata": {},
   "outputs": [
    {
     "name": "stdout",
     "output_type": "stream",
     "text": [
      "0,1,2,3,4,5,6,7,8,9,10,11,12,13,14,15,16,17,18,19,20,21,22,23,24,25,26,27,28,29,30,31,32,33,34,35,36,37,38,39,40,41,42,43,44,45,46,47,48,49,"
     ]
    }
   ],
   "source": [
    "for i in range(0,50,1):\n",
    "    print(i,end=',')"
   ]
  },
  {
   "cell_type": "code",
   "execution_count": 109,
   "id": "b04066f2-b6a3-43b0-89df-fb1ee87ce002",
   "metadata": {},
   "outputs": [
    {
     "name": "stdout",
     "output_type": "stream",
     "text": [
      "1,2,3,4,5,6,7,8,9,10,11,12,13,14,15,16,17,18,19,20,21,22,23,24,25,26,27,28,29,30,31,32,33,34,35,36,37,38,39,40,41,42,43,44,45,46,47,48,49,"
     ]
    }
   ],
   "source": [
    "for i in range(1,50,):\n",
    "    print(i,end=',')"
   ]
  },
  {
   "cell_type": "code",
   "execution_count": 110,
   "id": "13b0c04d-58ff-43e5-868d-7bfd3dc52f96",
   "metadata": {},
   "outputs": [
    {
     "name": "stdout",
     "output_type": "stream",
     "text": [
      "50,49,48,47,46,45,44,43,42,41,40,39,38,37,36,35,34,33,32,31,30,29,28,27,26,25,24,23,22,21,20,19,18,17,16,15,14,13,12,11,10,9,8,7,6,5,4,3,2,"
     ]
    }
   ],
   "source": [
    "for i in range(50,1,-1):\n",
    "    print(i,end=',')"
   ]
  },
  {
   "cell_type": "code",
   "execution_count": 111,
   "id": "44353bc3-5f65-48a6-9ccf-9ea761b9d3d8",
   "metadata": {},
   "outputs": [
    {
     "name": "stdout",
     "output_type": "stream",
     "text": [
      "50,48,46,44,42,40,38,36,34,32,30,28,26,24,22,20,18,16,14,12,10,8,6,4,2,"
     ]
    }
   ],
   "source": [
    "for i in range(50,1,-2):\n",
    "    print(i,end=',')"
   ]
  },
  {
   "cell_type": "code",
   "execution_count": 112,
   "id": "e18e5b2a-9ef6-4532-bfad-7ba7b000ac50",
   "metadata": {},
   "outputs": [
    {
     "name": "stdout",
     "output_type": "stream",
     "text": [
      "     *\n",
      "    **\n",
      "   ***\n",
      "  ****\n",
      " *****\n"
     ]
    }
   ],
   "source": [
    "for i in range(1,6):\n",
    "    print((6-i)*\" \"+i*\"*\")"
   ]
  },
  {
   "cell_type": "code",
   "execution_count": 124,
   "id": "f60f9eec-09dd-4c62-ab03-dae0bb7c5f39",
   "metadata": {},
   "outputs": [
    {
     "name": "stdout",
     "output_type": "stream",
     "text": [
      "    *\n",
      "   ***\n",
      "  *****\n",
      " *******\n",
      "*********\n"
     ]
    }
   ],
   "source": [
    "rows = 5\n",
    "for i in range(rows):\n",
    "    print(\" \" * (5 - i - 1) + \"*\" * (2 * i + 1))"
   ]
  },
  {
   "cell_type": "code",
   "execution_count": null,
   "id": "651ec714-7607-44f2-86a0-e4f3dd3c821a",
   "metadata": {},
   "outputs": [],
   "source": []
  }
 ],
 "metadata": {
  "kernelspec": {
   "display_name": "Python 3 (ipykernel)",
   "language": "python",
   "name": "python3"
  },
  "language_info": {
   "codemirror_mode": {
    "name": "ipython",
    "version": 3
   },
   "file_extension": ".py",
   "mimetype": "text/x-python",
   "name": "python",
   "nbconvert_exporter": "python",
   "pygments_lexer": "ipython3",
   "version": "3.13.2"
  }
 },
 "nbformat": 4,
 "nbformat_minor": 5
}
