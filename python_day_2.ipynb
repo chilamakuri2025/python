{
 "cells": [
  {
   "cell_type": "code",
   "execution_count": 1,
   "id": "8d76e825-3ee3-4c1b-a6c2-ef563923e073",
   "metadata": {},
   "outputs": [],
   "source": [
    "string = 'dAta scieNce'"
   ]
  },
  {
   "cell_type": "code",
   "execution_count": 4,
   "id": "c87e1f72-5682-4134-b203-81d3e85dad9c",
   "metadata": {},
   "outputs": [
    {
     "data": {
      "text/plain": [
       "'data science'"
      ]
     },
     "execution_count": 4,
     "metadata": {},
     "output_type": "execute_result"
    }
   ],
   "source": [
    "string"
   ]
  },
  {
   "cell_type": "code",
   "execution_count": 6,
   "id": "3286c04b-7674-4e1e-943c-61f158315fd9",
   "metadata": {},
   "outputs": [
    {
     "name": "stdout",
     "output_type": "stream",
     "text": [
      "DATA SCIENCE\n"
     ]
    }
   ],
   "source": [
    "print(string.upper())"
   ]
  },
  {
   "cell_type": "raw",
   "id": "2651540f-7a1f-4626-aab2-80f8972b7194",
   "metadata": {},
   "source": [
    "print(string.lower())"
   ]
  },
  {
   "cell_type": "raw",
   "id": "e393d19f-3a95-49d6-9a6c-59fab6425d5b",
   "metadata": {},
   "source": []
  },
  {
   "cell_type": "code",
   "execution_count": 7,
   "id": "d1357a31-0d59-45d4-b44f-b89a90a297d5",
   "metadata": {},
   "outputs": [
    {
     "name": "stdout",
     "output_type": "stream",
     "text": [
      "data science\n"
     ]
    }
   ],
   "source": [
    "print(string.lower())"
   ]
  },
  {
   "cell_type": "code",
   "execution_count": 8,
   "id": "8ac0d071-d437-4bb3-8571-b141bae6323a",
   "metadata": {},
   "outputs": [
    {
     "name": "stdout",
     "output_type": "stream",
     "text": [
      "True\n"
     ]
    }
   ],
   "source": [
    "print(string.islower())"
   ]
  },
  {
   "cell_type": "code",
   "execution_count": 9,
   "id": "9b7f6656-970e-4bc3-b571-0bad16718279",
   "metadata": {},
   "outputs": [
    {
     "name": "stdout",
     "output_type": "stream",
     "text": [
      "False\n"
     ]
    }
   ],
   "source": [
    "print(string.isupper())"
   ]
  },
  {
   "cell_type": "code",
   "execution_count": 10,
   "id": "0164b914-cb00-424f-852f-55bcc508b371",
   "metadata": {},
   "outputs": [
    {
     "data": {
      "text/plain": [
       "'data science'"
      ]
     },
     "execution_count": 10,
     "metadata": {},
     "output_type": "execute_result"
    }
   ],
   "source": [
    "string"
   ]
  },
  {
   "cell_type": "code",
   "execution_count": 11,
   "id": "80d597c0-66c0-43b9-99d1-68aa4dd34986",
   "metadata": {},
   "outputs": [],
   "source": [
    "\n",
    "string='data science'"
   ]
  },
  {
   "cell_type": "code",
   "execution_count": 12,
   "id": "7d9100f9-77fa-4843-9427-3a799ab1c88d",
   "metadata": {},
   "outputs": [
    {
     "data": {
      "text/plain": [
       "'Data science'"
      ]
     },
     "execution_count": 12,
     "metadata": {},
     "output_type": "execute_result"
    }
   ],
   "source": [
    "string.capitalize()"
   ]
  },
  {
   "cell_type": "code",
   "execution_count": 13,
   "id": "d691318f-95db-40c1-92f4-4f7faecf22e6",
   "metadata": {},
   "outputs": [
    {
     "data": {
      "text/plain": [
       "'Data Science'"
      ]
     },
     "execution_count": 13,
     "metadata": {},
     "output_type": "execute_result"
    }
   ],
   "source": [
    "string.title()"
   ]
  },
  {
   "cell_type": "code",
   "execution_count": 14,
   "id": "30918c90-3383-4261-9606-f3cb8e0c6e70",
   "metadata": {},
   "outputs": [
    {
     "data": {
      "text/plain": [
       "'DATA SCIENCE'"
      ]
     },
     "execution_count": 14,
     "metadata": {},
     "output_type": "execute_result"
    }
   ],
   "source": [
    "string.swapcase()"
   ]
  },
  {
   "cell_type": "code",
   "execution_count": null,
   "id": "38b87ed5-afea-4bd2-aa26-f1755e363ec4",
   "metadata": {},
   "outputs": [],
   "source": [
    "\n"
   ]
  },
  {
   "cell_type": "code",
   "execution_count": null,
   "id": "2f765d7a-aeb5-4d37-b1b1-28d2c335c939",
   "metadata": {},
   "outputs": [],
   "source": []
  },
  {
   "cell_type": "code",
   "execution_count": 15,
   "id": "a2284380-6b2b-4b3a-969b-c2340b58f3bd",
   "metadata": {},
   "outputs": [],
   "source": [
    "string = ' data '"
   ]
  },
  {
   "cell_type": "code",
   "execution_count": 16,
   "id": "8fff6e34-2169-4162-8643-104c6568120c",
   "metadata": {},
   "outputs": [
    {
     "data": {
      "text/plain": [
       "' data '"
      ]
     },
     "execution_count": 16,
     "metadata": {},
     "output_type": "execute_result"
    }
   ],
   "source": [
    "string"
   ]
  },
  {
   "cell_type": "code",
   "execution_count": 18,
   "id": "5c47db16-2301-4530-ab8c-b153ed05c8c6",
   "metadata": {},
   "outputs": [
    {
     "data": {
      "text/plain": [
       "'data'"
      ]
     },
     "execution_count": 18,
     "metadata": {},
     "output_type": "execute_result"
    }
   ],
   "source": [
    "string.strip()  # it removes both sides"
   ]
  },
  {
   "cell_type": "code",
   "execution_count": 19,
   "id": "4d85a3e6-0ee4-4b11-aaae-943525ffddea",
   "metadata": {},
   "outputs": [
    {
     "data": {
      "text/plain": [
       "'data '"
      ]
     },
     "execution_count": 19,
     "metadata": {},
     "output_type": "execute_result"
    }
   ],
   "source": [
    "string.lstrip()"
   ]
  },
  {
   "cell_type": "code",
   "execution_count": 20,
   "id": "d856d567-ab8b-4344-a59d-0a3def4a57cc",
   "metadata": {},
   "outputs": [
    {
     "data": {
      "text/plain": [
       "' data'"
      ]
     },
     "execution_count": 20,
     "metadata": {},
     "output_type": "execute_result"
    }
   ],
   "source": [
    "string.rstrip()"
   ]
  },
  {
   "cell_type": "code",
   "execution_count": 22,
   "id": "1ad4599a-1ce1-4221-a48f-2e7386e0ae49",
   "metadata": {},
   "outputs": [],
   "source": [
    "string = \"data science\""
   ]
  },
  {
   "cell_type": "code",
   "execution_count": 23,
   "id": "6f18dff8-d7f5-487d-8164-31f63d824212",
   "metadata": {},
   "outputs": [
    {
     "data": {
      "text/plain": [
       "'data science'"
      ]
     },
     "execution_count": 23,
     "metadata": {},
     "output_type": "execute_result"
    }
   ],
   "source": [
    "string"
   ]
  },
  {
   "cell_type": "code",
   "execution_count": 24,
   "id": "0f36ca44-e1d7-40c5-8c06-ce447d022309",
   "metadata": {},
   "outputs": [
    {
     "data": {
      "text/plain": [
       "'dxyztxyz science'"
      ]
     },
     "execution_count": 24,
     "metadata": {},
     "output_type": "execute_result"
    }
   ],
   "source": [
    "string.replace('a','xyz')   # wheere ever a is there it will replace with xyz"
   ]
  },
  {
   "cell_type": "code",
   "execution_count": 25,
   "id": "4b653a83-a74b-4b71-95e5-52ce6e3b6bb6",
   "metadata": {},
   "outputs": [],
   "source": [
    "string = \"91 6315269962\""
   ]
  },
  {
   "cell_type": "code",
   "execution_count": 26,
   "id": "4eccde58-b2a0-4832-a315-b4e483511d6b",
   "metadata": {},
   "outputs": [
    {
     "data": {
      "text/plain": [
       "'91 6315269962'"
      ]
     },
     "execution_count": 26,
     "metadata": {},
     "output_type": "execute_result"
    }
   ],
   "source": [
    "string"
   ]
  },
  {
   "cell_type": "code",
   "execution_count": 28,
   "id": "60ab80d6-a919-46e3-8ff8-2bb3e8ea0b7a",
   "metadata": {},
   "outputs": [
    {
     "data": {
      "text/plain": [
       "'91-6315269962'"
      ]
     },
     "execution_count": 28,
     "metadata": {},
     "output_type": "execute_result"
    }
   ],
   "source": [
    "string.replace(' ', '-')"
   ]
  },
  {
   "cell_type": "raw",
   "id": "92dc74f7-7919-4392-b364-1745fea198a6",
   "metadata": {},
   "source": []
  },
  {
   "cell_type": "code",
   "execution_count": 29,
   "id": "f39f518d-500a-4691-a80a-bd9e95198683",
   "metadata": {},
   "outputs": [],
   "source": [
    "string = 'data science'"
   ]
  },
  {
   "cell_type": "code",
   "execution_count": 30,
   "id": "ce4aec0e-0a83-42c6-bc05-4331bc0d368a",
   "metadata": {},
   "outputs": [
    {
     "data": {
      "text/plain": [
       "'data science'"
      ]
     },
     "execution_count": 30,
     "metadata": {},
     "output_type": "execute_result"
    }
   ],
   "source": [
    "string"
   ]
  },
  {
   "cell_type": "code",
   "execution_count": 32,
   "id": "d2d6a108-8487-4070-a0d9-51940d5bd0ec",
   "metadata": {},
   "outputs": [
    {
     "data": {
      "text/plain": [
       "2"
      ]
     },
     "execution_count": 32,
     "metadata": {},
     "output_type": "execute_result"
    }
   ],
   "source": [
    "string.count('a')"
   ]
  },
  {
   "cell_type": "code",
   "execution_count": 33,
   "id": "2d1f9d46-823e-4a69-b8ba-ed253bb692e8",
   "metadata": {},
   "outputs": [
    {
     "data": {
      "text/plain": [
       "1"
      ]
     },
     "execution_count": 33,
     "metadata": {},
     "output_type": "execute_result"
    }
   ],
   "source": [
    "string.count('a',1,2)   #a will be the letter which we  are counting, 1 is starting point, 2 is the ending"
   ]
  },
  {
   "cell_type": "code",
   "execution_count": 34,
   "id": "8f3e5463-cdc5-4f6a-80cf-d739abe6cd6e",
   "metadata": {},
   "outputs": [
    {
     "data": {
      "text/plain": [
       "'data science'"
      ]
     },
     "execution_count": 34,
     "metadata": {},
     "output_type": "execute_result"
    }
   ],
   "source": [
    "string"
   ]
  },
  {
   "cell_type": "code",
   "execution_count": 37,
   "id": "84c723bd-f058-45f0-8cba-57a8f7ef6d8b",
   "metadata": {},
   "outputs": [
    {
     "data": {
      "text/plain": [
       "1"
      ]
     },
     "execution_count": 37,
     "metadata": {},
     "output_type": "execute_result"
    }
   ],
   "source": [
    "string.index('a')  # it will gives 1st position of letter"
   ]
  },
  {
   "cell_type": "code",
   "execution_count": 38,
   "id": "da3edc2b-b81f-4c78-af44-a341bd35151a",
   "metadata": {},
   "outputs": [
    {
     "data": {
      "text/plain": [
       "1"
      ]
     },
     "execution_count": 38,
     "metadata": {},
     "output_type": "execute_result"
    }
   ],
   "source": [
    "string.find('a') # it will gives 1st position of letter "
   ]
  },
  {
   "cell_type": "code",
   "execution_count": 39,
   "id": "19521e49-5e57-4be3-bc19-21e5de94fcd6",
   "metadata": {},
   "outputs": [
    {
     "data": {
      "text/plain": [
       "'data science'"
      ]
     },
     "execution_count": 39,
     "metadata": {},
     "output_type": "execute_result"
    }
   ],
   "source": [
    "string"
   ]
  },
  {
   "cell_type": "code",
   "execution_count": 40,
   "id": "defd5996-08e0-413d-813d-52e4d8848048",
   "metadata": {},
   "outputs": [
    {
     "ename": "ValueError",
     "evalue": "substring not found",
     "output_type": "error",
     "traceback": [
      "\u001b[31m---------------------------------------------------------------------------\u001b[39m",
      "\u001b[31mValueError\u001b[39m                                Traceback (most recent call last)",
      "\u001b[36mCell\u001b[39m\u001b[36m \u001b[39m\u001b[32mIn[40]\u001b[39m\u001b[32m, line 1\u001b[39m\n\u001b[32m----> \u001b[39m\u001b[32m1\u001b[39m \u001b[43mstring\u001b[49m\u001b[43m.\u001b[49m\u001b[43mindex\u001b[49m\u001b[43m(\u001b[49m\u001b[33;43m'\u001b[39;49m\u001b[33;43mp\u001b[39;49m\u001b[33;43m'\u001b[39;49m\u001b[43m)\u001b[49m\n",
      "\u001b[31mValueError\u001b[39m: substring not found"
     ]
    }
   ],
   "source": [
    "string.index('p') # if value is not there it will throw error"
   ]
  },
  {
   "cell_type": "code",
   "execution_count": 41,
   "id": "fb384a97-b938-40c9-89ba-a6c4474c9f35",
   "metadata": {},
   "outputs": [
    {
     "data": {
      "text/plain": [
       "-1"
      ]
     },
     "execution_count": 41,
     "metadata": {},
     "output_type": "execute_result"
    }
   ],
   "source": [
    "string.find('p') # if value is not there it will give -1"
   ]
  },
  {
   "cell_type": "code",
   "execution_count": null,
   "id": "04995090-2a5d-46d8-bb78-2cfaeef21c54",
   "metadata": {},
   "outputs": [],
   "source": []
  },
  {
   "cell_type": "code",
   "execution_count": 42,
   "id": "335f821b-9898-437b-a453-8b821bf56204",
   "metadata": {},
   "outputs": [],
   "source": [
    "string =\"data science\""
   ]
  },
  {
   "cell_type": "code",
   "execution_count": 43,
   "id": "ec643297-e5bd-4f25-8ebe-88bf08f59c0a",
   "metadata": {},
   "outputs": [
    {
     "data": {
      "text/plain": [
       "'data science'"
      ]
     },
     "execution_count": 43,
     "metadata": {},
     "output_type": "execute_result"
    }
   ],
   "source": [
    "string"
   ]
  },
  {
   "cell_type": "code",
   "execution_count": 44,
   "id": "40fc7335-2d32-4fbd-9076-80386f2c0b0c",
   "metadata": {},
   "outputs": [
    {
     "data": {
      "text/plain": [
       "False"
      ]
     },
     "execution_count": 44,
     "metadata": {},
     "output_type": "execute_result"
    }
   ],
   "source": [
    "string.isupper()"
   ]
  },
  {
   "cell_type": "code",
   "execution_count": 45,
   "id": "f3592461-a4eb-4c9a-b832-9309b4007ada",
   "metadata": {},
   "outputs": [
    {
     "data": {
      "text/plain": [
       "True"
      ]
     },
     "execution_count": 45,
     "metadata": {},
     "output_type": "execute_result"
    }
   ],
   "source": [
    "string.islower()"
   ]
  },
  {
   "cell_type": "code",
   "execution_count": 46,
   "id": "b569fa96-d5b4-41fe-ac5f-50cda243d2eb",
   "metadata": {},
   "outputs": [
    {
     "data": {
      "text/plain": [
       "False"
      ]
     },
     "execution_count": 46,
     "metadata": {},
     "output_type": "execute_result"
    }
   ],
   "source": [
    "string.endswith('a')"
   ]
  },
  {
   "cell_type": "code",
   "execution_count": 47,
   "id": "ce3805ee-01b3-4ef4-8a66-54d52b979643",
   "metadata": {},
   "outputs": [
    {
     "data": {
      "text/plain": [
       "True"
      ]
     },
     "execution_count": 47,
     "metadata": {},
     "output_type": "execute_result"
    }
   ],
   "source": [
    "string.endswith('e')"
   ]
  },
  {
   "cell_type": "code",
   "execution_count": 48,
   "id": "38602977-404f-4cc2-ac0f-e78f9d969004",
   "metadata": {},
   "outputs": [
    {
     "data": {
      "text/plain": [
       "True"
      ]
     },
     "execution_count": 48,
     "metadata": {},
     "output_type": "execute_result"
    }
   ],
   "source": [
    "string.startswith('da')"
   ]
  },
  {
   "cell_type": "code",
   "execution_count": 50,
   "id": "140f8c16-6fa7-4545-a51b-7c95dfc87688",
   "metadata": {},
   "outputs": [
    {
     "data": {
      "text/plain": [
       "False"
      ]
     },
     "execution_count": 50,
     "metadata": {},
     "output_type": "execute_result"
    }
   ],
   "source": [
    "string.startswith('ea')"
   ]
  },
  {
   "cell_type": "raw",
   "id": "fecf9885-80df-446b-8176-e9ca1184a232",
   "metadata": {},
   "source": []
  },
  {
   "cell_type": "code",
   "execution_count": 51,
   "id": "11feaac7-3364-4f8d-b6a7-591fe91ebf46",
   "metadata": {},
   "outputs": [
    {
     "data": {
      "text/plain": [
       "False"
      ]
     },
     "execution_count": 51,
     "metadata": {},
     "output_type": "execute_result"
    }
   ],
   "source": [
    "string.startswith('datas')"
   ]
  },
  {
   "cell_type": "code",
   "execution_count": 52,
   "id": "83ec569f-a078-4b98-a757-7759cb5b3ee9",
   "metadata": {},
   "outputs": [
    {
     "data": {
      "text/plain": [
       "'data science'"
      ]
     },
     "execution_count": 52,
     "metadata": {},
     "output_type": "execute_result"
    }
   ],
   "source": [
    "string"
   ]
  },
  {
   "cell_type": "code",
   "execution_count": 53,
   "id": "f39d5f6f-4fd1-452c-8771-726ace38eb54",
   "metadata": {},
   "outputs": [],
   "source": [
    "string='9966665'"
   ]
  },
  {
   "cell_type": "code",
   "execution_count": 54,
   "id": "c5114ac1-8041-4cc6-9305-9d0067a570f5",
   "metadata": {},
   "outputs": [
    {
     "data": {
      "text/plain": [
       "'9966665'"
      ]
     },
     "execution_count": 54,
     "metadata": {},
     "output_type": "execute_result"
    }
   ],
   "source": [
    "string"
   ]
  },
  {
   "cell_type": "code",
   "execution_count": 55,
   "id": "f05ad7a9-e67b-4ccd-846b-2d2a82a3c7ec",
   "metadata": {},
   "outputs": [
    {
     "data": {
      "text/plain": [
       "True"
      ]
     },
     "execution_count": 55,
     "metadata": {},
     "output_type": "execute_result"
    }
   ],
   "source": [
    "string.isnumeric()"
   ]
  },
  {
   "cell_type": "code",
   "execution_count": 56,
   "id": "3d96643f-0d61-480d-b792-a6f1ed32ea69",
   "metadata": {},
   "outputs": [],
   "source": [
    "string=' 66333 '"
   ]
  },
  {
   "cell_type": "code",
   "execution_count": 57,
   "id": "1eb7d2bc-d05c-4a04-8e03-a5933cd7151d",
   "metadata": {},
   "outputs": [
    {
     "data": {
      "text/plain": [
       "' 66333 '"
      ]
     },
     "execution_count": 57,
     "metadata": {},
     "output_type": "execute_result"
    }
   ],
   "source": [
    "string"
   ]
  },
  {
   "cell_type": "code",
   "execution_count": 59,
   "id": "24cb4971-4e5f-4a1b-b467-a13d16e5592f",
   "metadata": {},
   "outputs": [
    {
     "data": {
      "text/plain": [
       "False"
      ]
     },
     "execution_count": 59,
     "metadata": {},
     "output_type": "execute_result"
    }
   ],
   "source": [
    "string.isnumeric()  # if u give spaces or characters also it will give false"
   ]
  },
  {
   "cell_type": "code",
   "execution_count": 60,
   "id": "d2290e0f-e400-42b9-bdd2-79032ae7280a",
   "metadata": {},
   "outputs": [],
   "source": [
    "string= \"data\""
   ]
  },
  {
   "cell_type": "code",
   "execution_count": 63,
   "id": "16426aae-7528-4316-ba91-a9ec1e636850",
   "metadata": {},
   "outputs": [
    {
     "data": {
      "text/plain": [
       "True"
      ]
     },
     "execution_count": 63,
     "metadata": {},
     "output_type": "execute_result"
    }
   ],
   "source": [
    "string.isalpha()"
   ]
  },
  {
   "cell_type": "code",
   "execution_count": 64,
   "id": "35af2372-8c90-4702-9e24-9e865767a82a",
   "metadata": {},
   "outputs": [],
   "source": [
    "string='data2'"
   ]
  },
  {
   "cell_type": "code",
   "execution_count": 65,
   "id": "dda01e1b-a0f2-49ad-a196-f4cffe7cfead",
   "metadata": {},
   "outputs": [
    {
     "data": {
      "text/plain": [
       "'data2'"
      ]
     },
     "execution_count": 65,
     "metadata": {},
     "output_type": "execute_result"
    }
   ],
   "source": [
    "string"
   ]
  },
  {
   "cell_type": "code",
   "execution_count": 66,
   "id": "c56273aa-117a-4538-bdf5-b1597fb08d4f",
   "metadata": {},
   "outputs": [
    {
     "data": {
      "text/plain": [
       "False"
      ]
     },
     "execution_count": 66,
     "metadata": {},
     "output_type": "execute_result"
    }
   ],
   "source": [
    "string.isalpha()"
   ]
  },
  {
   "cell_type": "code",
   "execution_count": 67,
   "id": "c9fed7d7-8bda-42f7-a773-1a33a353efff",
   "metadata": {},
   "outputs": [
    {
     "data": {
      "text/plain": [
       "'data2'"
      ]
     },
     "execution_count": 67,
     "metadata": {},
     "output_type": "execute_result"
    }
   ],
   "source": [
    "string"
   ]
  },
  {
   "cell_type": "code",
   "execution_count": 68,
   "id": "dd2f37e1-6405-49d3-bac9-66ae4f05fd47",
   "metadata": {},
   "outputs": [],
   "source": [
    "string= 'data3'"
   ]
  },
  {
   "cell_type": "code",
   "execution_count": 69,
   "id": "0ff27245-b8bc-4b4e-89dc-f5107f5eb178",
   "metadata": {},
   "outputs": [
    {
     "data": {
      "text/plain": [
       "'data3'"
      ]
     },
     "execution_count": 69,
     "metadata": {},
     "output_type": "execute_result"
    }
   ],
   "source": [
    "string"
   ]
  },
  {
   "cell_type": "code",
   "execution_count": 70,
   "id": "a48b513f-b8ec-4feb-bd1b-dd907fd0f11d",
   "metadata": {},
   "outputs": [
    {
     "data": {
      "text/plain": [
       "True"
      ]
     },
     "execution_count": 70,
     "metadata": {},
     "output_type": "execute_result"
    }
   ],
   "source": [
    "string.isalnum() # either alpha or numeric or both"
   ]
  },
  {
   "cell_type": "code",
   "execution_count": 71,
   "id": "3077ddd9-d044-4010-8a2c-395d6976e752",
   "metadata": {},
   "outputs": [],
   "source": [
    "string ='data'"
   ]
  },
  {
   "cell_type": "code",
   "execution_count": 72,
   "id": "46e983b0-de28-4d60-a141-0fdb770c9b38",
   "metadata": {},
   "outputs": [
    {
     "data": {
      "text/plain": [
       "'data'"
      ]
     },
     "execution_count": 72,
     "metadata": {},
     "output_type": "execute_result"
    }
   ],
   "source": [
    "string"
   ]
  },
  {
   "cell_type": "code",
   "execution_count": 74,
   "id": "f1417085-d8a9-4b91-b5b8-d540b80d33fa",
   "metadata": {},
   "outputs": [
    {
     "data": {
      "text/plain": [
       "True"
      ]
     },
     "execution_count": 74,
     "metadata": {},
     "output_type": "execute_result"
    }
   ],
   "source": [
    "string.isalnum()"
   ]
  },
  {
   "cell_type": "code",
   "execution_count": 75,
   "id": "fc9eb78a-45d6-4a98-b292-5548cf5832df",
   "metadata": {},
   "outputs": [],
   "source": [
    "data='1235'"
   ]
  },
  {
   "cell_type": "code",
   "execution_count": 76,
   "id": "eba12967-52f0-4c42-8f76-71e15a287716",
   "metadata": {},
   "outputs": [
    {
     "data": {
      "text/plain": [
       "'1235'"
      ]
     },
     "execution_count": 76,
     "metadata": {},
     "output_type": "execute_result"
    }
   ],
   "source": [
    "data"
   ]
  },
  {
   "cell_type": "code",
   "execution_count": 78,
   "id": "0ee14bd5-a882-45f5-b09f-207a829f35ea",
   "metadata": {},
   "outputs": [
    {
     "data": {
      "text/plain": [
       "True"
      ]
     },
     "execution_count": 78,
     "metadata": {},
     "output_type": "execute_result"
    }
   ],
   "source": [
    "data.isalnum()"
   ]
  },
  {
   "cell_type": "code",
   "execution_count": 79,
   "id": "93cd5a95-b21f-43c5-a353-1688346bad18",
   "metadata": {},
   "outputs": [
    {
     "data": {
      "text/plain": [
       "'1235'"
      ]
     },
     "execution_count": 79,
     "metadata": {},
     "output_type": "execute_result"
    }
   ],
   "source": [
    "data"
   ]
  },
  {
   "cell_type": "code",
   "execution_count": 80,
   "id": "5a3e9bdb-ec29-4b5d-88cf-650777710d53",
   "metadata": {},
   "outputs": [],
   "source": [
    "string ='abc123 '"
   ]
  },
  {
   "cell_type": "code",
   "execution_count": 81,
   "id": "75292ea5-db8e-49c0-8f04-9088e1907d1a",
   "metadata": {},
   "outputs": [
    {
     "data": {
      "text/plain": [
       "'abc123 '"
      ]
     },
     "execution_count": 81,
     "metadata": {},
     "output_type": "execute_result"
    }
   ],
   "source": [
    "string"
   ]
  },
  {
   "cell_type": "code",
   "execution_count": 83,
   "id": "5e0c6687-d13e-4791-8ac3-cdce8199dde8",
   "metadata": {},
   "outputs": [
    {
     "data": {
      "text/plain": [
       "False"
      ]
     },
     "execution_count": 83,
     "metadata": {},
     "output_type": "execute_result"
    }
   ],
   "source": [
    "string.isalnum()  # if we pass space also it will print false"
   ]
  },
  {
   "cell_type": "code",
   "execution_count": 84,
   "id": "3c4682c7-bdfa-4449-85a6-949982f666bc",
   "metadata": {},
   "outputs": [],
   "source": [
    "string = 'data 562 science'"
   ]
  },
  {
   "cell_type": "code",
   "execution_count": 85,
   "id": "8467392b-4b55-455a-807e-22c8017b1762",
   "metadata": {},
   "outputs": [
    {
     "data": {
      "text/plain": [
       "'data 562 science'"
      ]
     },
     "execution_count": 85,
     "metadata": {},
     "output_type": "execute_result"
    }
   ],
   "source": [
    "string"
   ]
  },
  {
   "cell_type": "code",
   "execution_count": 86,
   "id": "8f108871-ef2c-452c-993f-3a2fb98bccf0",
   "metadata": {},
   "outputs": [
    {
     "data": {
      "text/plain": [
       "False"
      ]
     },
     "execution_count": 86,
     "metadata": {},
     "output_type": "execute_result"
    }
   ],
   "source": [
    "string[0:4].isupper()"
   ]
  },
  {
   "cell_type": "code",
   "execution_count": 87,
   "id": "8cf934ce-5274-49a6-9248-20d43fc57f37",
   "metadata": {},
   "outputs": [
    {
     "data": {
      "text/plain": [
       "True"
      ]
     },
     "execution_count": 87,
     "metadata": {},
     "output_type": "execute_result"
    }
   ],
   "source": [
    "string[-3:-1].islower()"
   ]
  },
  {
   "cell_type": "code",
   "execution_count": 89,
   "id": "04a30b92-03d0-4188-b5f9-515c89af4a56",
   "metadata": {},
   "outputs": [
    {
     "data": {
      "text/plain": [
       "'NC'"
      ]
     },
     "execution_count": 89,
     "metadata": {},
     "output_type": "execute_result"
    }
   ],
   "source": [
    "string[-3:-1].swapcase()"
   ]
  },
  {
   "cell_type": "raw",
   "id": "1604d400-bf15-4cec-8e3f-c27a250c3eca",
   "metadata": {},
   "source": []
  },
  {
   "cell_type": "code",
   "execution_count": 90,
   "id": "140334cb-4da7-4262-b817-747f25ac8ec4",
   "metadata": {},
   "outputs": [
    {
     "data": {
      "text/plain": [
       "'data 562 science'"
      ]
     },
     "execution_count": 90,
     "metadata": {},
     "output_type": "execute_result"
    }
   ],
   "source": [
    "string"
   ]
  },
  {
   "cell_type": "code",
   "execution_count": 92,
   "id": "c1b118e2-e7e8-48f6-8d8b-eac81aaf02bc",
   "metadata": {},
   "outputs": [
    {
     "data": {
      "text/plain": [
       "'Dat'"
      ]
     },
     "execution_count": 92,
     "metadata": {},
     "output_type": "execute_result"
    }
   ],
   "source": [
    "string[0:3].title()"
   ]
  },
  {
   "cell_type": "code",
   "execution_count": 93,
   "id": "6f06a8ff-7d9c-46c0-855a-02d20a99937e",
   "metadata": {},
   "outputs": [],
   "source": [
    "string='data'"
   ]
  },
  {
   "cell_type": "code",
   "execution_count": 94,
   "id": "4433dfb7-0a60-4aeb-a7a2-446a532e7b1e",
   "metadata": {},
   "outputs": [
    {
     "data": {
      "text/plain": [
       "'data'"
      ]
     },
     "execution_count": 94,
     "metadata": {},
     "output_type": "execute_result"
    }
   ],
   "source": [
    "string"
   ]
  },
  {
   "cell_type": "code",
   "execution_count": 95,
   "id": "71265553-0889-4a08-8d98-f067a149528a",
   "metadata": {},
   "outputs": [
    {
     "data": {
      "text/plain": [
       "'000000data'"
      ]
     },
     "execution_count": 95,
     "metadata": {},
     "output_type": "execute_result"
    }
   ],
   "source": [
    "string.zfill(10)   # it will fill zeros before data .whole count should be 10"
   ]
  },
  {
   "cell_type": "code",
   "execution_count": 97,
   "id": "a4f3c6ec-ac6d-4e18-aa9f-baa8d8fe7819",
   "metadata": {},
   "outputs": [
    {
     "data": {
      "text/plain": [
       "'***data***'"
      ]
     },
     "execution_count": 97,
     "metadata": {},
     "output_type": "execute_result"
    }
   ],
   "source": [
    "string.center(10,'*')"
   ]
  },
  {
   "cell_type": "code",
   "execution_count": 99,
   "id": "45ed1abd-2eee-4550-ab0f-ea8b898e7283",
   "metadata": {},
   "outputs": [
    {
     "data": {
      "text/plain": [
       "'***data**'"
      ]
     },
     "execution_count": 99,
     "metadata": {},
     "output_type": "execute_result"
    }
   ],
   "source": [
    "string.center(9,'*')  # odd number means it will give prority to left side"
   ]
  },
  {
   "cell_type": "code",
   "execution_count": 102,
   "id": "59848031-a7c9-4cc7-8028-cac753664685",
   "metadata": {},
   "outputs": [],
   "source": [
    "string ='data scie nce'"
   ]
  },
  {
   "cell_type": "code",
   "execution_count": 103,
   "id": "d56a034d-ff8b-4d17-9aee-64d44009d5db",
   "metadata": {},
   "outputs": [
    {
     "data": {
      "text/plain": [
       "['data', 'scie', 'nce']"
      ]
     },
     "execution_count": 103,
     "metadata": {},
     "output_type": "execute_result"
    }
   ],
   "source": [
    "string.split()"
   ]
  },
  {
   "cell_type": "code",
   "execution_count": 104,
   "id": "06642738-c1b7-487e-85b1-9071aac1ba83",
   "metadata": {},
   "outputs": [],
   "source": [
    "string = 'data-scien ce'"
   ]
  },
  {
   "cell_type": "code",
   "execution_count": 105,
   "id": "556a6255-585a-4df2-8ba3-4db18d8adaad",
   "metadata": {},
   "outputs": [
    {
     "data": {
      "text/plain": [
       "['data', 'scien ce']"
      ]
     },
     "execution_count": 105,
     "metadata": {},
     "output_type": "execute_result"
    }
   ],
   "source": [
    "string.split('-')"
   ]
  },
  {
   "cell_type": "code",
   "execution_count": 106,
   "id": "3f4418db-bd72-42ab-a197-0d6de1303666",
   "metadata": {},
   "outputs": [],
   "source": [
    "string = 'data-science'"
   ]
  },
  {
   "cell_type": "code",
   "execution_count": 107,
   "id": "0d1f3493-613b-45e4-97e7-0d86568f1e16",
   "metadata": {},
   "outputs": [
    {
     "data": {
      "text/plain": [
       "'data-science'"
      ]
     },
     "execution_count": 107,
     "metadata": {},
     "output_type": "execute_result"
    }
   ],
   "source": [
    "string"
   ]
  },
  {
   "cell_type": "code",
   "execution_count": 108,
   "id": "7a7d598e-9fc8-492a-aca0-3b188452809f",
   "metadata": {},
   "outputs": [
    {
     "data": {
      "text/plain": [
       "['d', 't', '-science']"
      ]
     },
     "execution_count": 108,
     "metadata": {},
     "output_type": "execute_result"
    }
   ],
   "source": [
    "string.split('a')"
   ]
  },
  {
   "cell_type": "code",
   "execution_count": 109,
   "id": "b27ddc05-b747-4876-ae27-9a2056972f31",
   "metadata": {},
   "outputs": [
    {
     "data": {
      "text/plain": [
       "['data-sci', 'nc', '']"
      ]
     },
     "execution_count": 109,
     "metadata": {},
     "output_type": "execute_result"
    }
   ],
   "source": [
    "string.split('e')"
   ]
  },
  {
   "cell_type": "code",
   "execution_count": 110,
   "id": "ebd1e3f3-0942-42de-a05a-2308a76c7ca3",
   "metadata": {},
   "outputs": [
    {
     "data": {
      "text/plain": [
       "'datascience'"
      ]
     },
     "execution_count": 110,
     "metadata": {},
     "output_type": "execute_result"
    }
   ],
   "source": [
    "'data' + 'science'"
   ]
  },
  {
   "cell_type": "code",
   "execution_count": 112,
   "id": "a993cc03-f0a2-4d29-890e-fe1e6ad3cfa3",
   "metadata": {},
   "outputs": [
    {
     "data": {
      "text/plain": [
       "'datadata'"
      ]
     },
     "execution_count": 112,
     "metadata": {},
     "output_type": "execute_result"
    }
   ],
   "source": [
    "'data'*2"
   ]
  },
  {
   "cell_type": "code",
   "execution_count": 114,
   "id": "a484a719-138c-444b-9723-63edd3aeaf1d",
   "metadata": {},
   "outputs": [
    {
     "data": {
      "text/plain": [
       "'data data data data data '"
      ]
     },
     "execution_count": 114,
     "metadata": {},
     "output_type": "execute_result"
    }
   ],
   "source": [
    "\"data \"*5"
   ]
  },
  {
   "cell_type": "code",
   "execution_count": 115,
   "id": "9526291b-6b7f-4b9a-b170-4398c822f8f7",
   "metadata": {},
   "outputs": [],
   "source": [
    "x= 'data science'"
   ]
  },
  {
   "cell_type": "code",
   "execution_count": 116,
   "id": "0748ff8f-ccb6-424b-9306-de62bff46abc",
   "metadata": {},
   "outputs": [
    {
     "data": {
      "text/plain": [
       "'data science'"
      ]
     },
     "execution_count": 116,
     "metadata": {},
     "output_type": "execute_result"
    }
   ],
   "source": [
    "x"
   ]
  },
  {
   "cell_type": "code",
   "execution_count": 135,
   "id": "e63a88a3-051b-4623-b3ed-0d45d9240376",
   "metadata": {},
   "outputs": [
    {
     "data": {
      "text/plain": [
       "'dA'"
      ]
     },
     "execution_count": 135,
     "metadata": {},
     "output_type": "execute_result"
    }
   ],
   "source": [
    "x[0:2].capitalize().swapcase()"
   ]
  },
  {
   "cell_type": "code",
   "execution_count": 138,
   "id": "134161d3-0934-4c1d-8782-0438e1021995",
   "metadata": {},
   "outputs": [
    {
     "data": {
      "text/plain": [
       "'Data '"
      ]
     },
     "execution_count": 138,
     "metadata": {},
     "output_type": "execute_result"
    }
   ],
   "source": [
    "x[0:5].title()"
   ]
  },
  {
   "cell_type": "code",
   "execution_count": 139,
   "id": "029b54f7-c02b-4b35-bfec-9d2736062b11",
   "metadata": {},
   "outputs": [
    {
     "data": {
      "text/plain": [
       "'Data '"
      ]
     },
     "execution_count": 139,
     "metadata": {},
     "output_type": "execute_result"
    }
   ],
   "source": [
    "x[0:5].capitalize()"
   ]
  },
  {
   "cell_type": "code",
   "execution_count": 141,
   "id": "fa322cdb-2067-45fc-afa4-e9c95572a37a",
   "metadata": {},
   "outputs": [
    {
     "data": {
      "text/plain": [
       "'dA'"
      ]
     },
     "execution_count": 141,
     "metadata": {},
     "output_type": "execute_result"
    }
   ],
   "source": [
    "x[0:2].title().swapcase()"
   ]
  },
  {
   "cell_type": "code",
   "execution_count": 142,
   "id": "8de92a6e-0ccd-46bf-9225-d1fb10d77479",
   "metadata": {},
   "outputs": [],
   "source": [
    "x= 'data science'\n",
    "y= 'data engineering'"
   ]
  },
  {
   "cell_type": "code",
   "execution_count": 143,
   "id": "9969d1cd-8db4-476f-a067-20e72e14fee7",
   "metadata": {},
   "outputs": [
    {
     "data": {
      "text/plain": [
       "'data engineering'"
      ]
     },
     "execution_count": 143,
     "metadata": {},
     "output_type": "execute_result"
    }
   ],
   "source": [
    "y"
   ]
  },
  {
   "cell_type": "code",
   "execution_count": 144,
   "id": "2418b863-b182-4c1b-9eb9-70559b226ec7",
   "metadata": {},
   "outputs": [
    {
     "data": {
      "text/plain": [
       "'data'"
      ]
     },
     "execution_count": 144,
     "metadata": {},
     "output_type": "execute_result"
    }
   ],
   "source": [
    "x[0:4]"
   ]
  },
  {
   "cell_type": "code",
   "execution_count": 145,
   "id": "4b5c3f1e-2e7c-4ce0-842a-01042c7f9545",
   "metadata": {},
   "outputs": [
    {
     "data": {
      "text/plain": [
       "'DATA SCIENCE'"
      ]
     },
     "execution_count": 145,
     "metadata": {},
     "output_type": "execute_result"
    }
   ],
   "source": [
    "x.upper()"
   ]
  },
  {
   "cell_type": "code",
   "execution_count": 154,
   "id": "a680fae9-8c63-4af6-87cf-e01b6c4894d4",
   "metadata": {},
   "outputs": [
    {
     "data": {
      "text/plain": [
       "'DATA'"
      ]
     },
     "execution_count": 154,
     "metadata": {},
     "output_type": "execute_result"
    }
   ],
   "source": [
    "x[0:4].upper()"
   ]
  },
  {
   "cell_type": "code",
   "execution_count": 147,
   "id": "d4ae14ff-b6e6-4124-bd5e-ace53f08aac2",
   "metadata": {},
   "outputs": [
    {
     "data": {
      "text/plain": [
       "'engineering'"
      ]
     },
     "execution_count": 147,
     "metadata": {},
     "output_type": "execute_result"
    }
   ],
   "source": [
    "y[5:]"
   ]
  },
  {
   "cell_type": "code",
   "execution_count": 155,
   "id": "f5ddbe0a-d0fc-4b77-8892-ea5e144fdf26",
   "metadata": {},
   "outputs": [
    {
     "data": {
      "text/plain": [
       "'Engineering'"
      ]
     },
     "execution_count": 155,
     "metadata": {},
     "output_type": "execute_result"
    }
   ],
   "source": [
    "y[5:].title()"
   ]
  },
  {
   "cell_type": "code",
   "execution_count": 160,
   "id": "bb262935-8c1f-42a8-9e89-f38a2654df79",
   "metadata": {},
   "outputs": [
    {
     "data": {
      "text/plain": [
       "'DATA Engineering'"
      ]
     },
     "execution_count": 160,
     "metadata": {},
     "output_type": "execute_result"
    }
   ],
   "source": [
    "x[0:4].upper()+ ' '+ y[5:].title()"
   ]
  },
  {
   "cell_type": "code",
   "execution_count": 162,
   "id": "da24ca14-25a2-4d4d-b10a-a4b2a6402648",
   "metadata": {},
   "outputs": [],
   "source": [
    "x=''"
   ]
  },
  {
   "cell_type": "code",
   "execution_count": 163,
   "id": "bb2c3c31-752e-447c-b165-c99c0390af72",
   "metadata": {},
   "outputs": [
    {
     "data": {
      "text/plain": [
       "str"
      ]
     },
     "execution_count": 163,
     "metadata": {},
     "output_type": "execute_result"
    }
   ],
   "source": [
    "type(x)"
   ]
  },
  {
   "cell_type": "code",
   "execution_count": 164,
   "id": "a6fa7715-625a-4903-91f2-48b099304e54",
   "metadata": {},
   "outputs": [],
   "source": [
    "x=\"\""
   ]
  },
  {
   "cell_type": "code",
   "execution_count": 165,
   "id": "57f06fb4-7062-47b4-876a-612fc546f753",
   "metadata": {},
   "outputs": [
    {
     "data": {
      "text/plain": [
       "str"
      ]
     },
     "execution_count": 165,
     "metadata": {},
     "output_type": "execute_result"
    }
   ],
   "source": [
    "type(x)"
   ]
  },
  {
   "cell_type": "code",
   "execution_count": 166,
   "id": "78e3da8b-c660-4e20-9f73-2f30148772b8",
   "metadata": {},
   "outputs": [],
   "source": [
    "x=''''''"
   ]
  },
  {
   "cell_type": "code",
   "execution_count": 167,
   "id": "dc4e6e93-1e11-4297-aa4d-79384c5e2ffc",
   "metadata": {},
   "outputs": [
    {
     "data": {
      "text/plain": [
       "str"
      ]
     },
     "execution_count": 167,
     "metadata": {},
     "output_type": "execute_result"
    }
   ],
   "source": [
    "type(x)"
   ]
  },
  {
   "cell_type": "code",
   "execution_count": 168,
   "id": "8a9034b7-b87c-457d-b6a3-767383255535",
   "metadata": {},
   "outputs": [],
   "source": [
    "x=[]"
   ]
  },
  {
   "cell_type": "code",
   "execution_count": 169,
   "id": "4a5bca6c-4cea-4518-90b6-7cf942269987",
   "metadata": {},
   "outputs": [
    {
     "data": {
      "text/plain": [
       "list"
      ]
     },
     "execution_count": 169,
     "metadata": {},
     "output_type": "execute_result"
    }
   ],
   "source": [
    "type(x)"
   ]
  },
  {
   "cell_type": "code",
   "execution_count": 170,
   "id": "912c61ea-33b4-46c7-836a-410ee4adb393",
   "metadata": {},
   "outputs": [],
   "source": [
    "x=1,2,3,4,5   #list is collection of data types. those are int,float,complex,string"
   ]
  },
  {
   "cell_type": "code",
   "execution_count": 171,
   "id": "21cb48d4-67e4-4e33-8452-997c7e88f2bf",
   "metadata": {},
   "outputs": [
    {
     "data": {
      "text/plain": [
       "(1, 2, 3, 4, 5)"
      ]
     },
     "execution_count": 171,
     "metadata": {},
     "output_type": "execute_result"
    }
   ],
   "source": [
    "x"
   ]
  },
  {
   "cell_type": "code",
   "execution_count": 175,
   "id": "6d580dbc-7ac2-496e-bfcb-05e5ad4ab373",
   "metadata": {},
   "outputs": [],
   "source": [
    "x=[1, 2.5, 2+3j, 'data']"
   ]
  },
  {
   "cell_type": "code",
   "execution_count": 176,
   "id": "123b8021-5935-4267-bfcb-ab4abf8b71b8",
   "metadata": {},
   "outputs": [
    {
     "data": {
      "text/plain": [
       "[1, 2.5, (2+3j), 'data']"
      ]
     },
     "execution_count": 176,
     "metadata": {},
     "output_type": "execute_result"
    }
   ],
   "source": [
    "x"
   ]
  },
  {
   "cell_type": "code",
   "execution_count": 177,
   "id": "9579e61b-503f-433b-bede-3a16a9412041",
   "metadata": {},
   "outputs": [
    {
     "data": {
      "text/plain": [
       "(2+3j)"
      ]
     },
     "execution_count": 177,
     "metadata": {},
     "output_type": "execute_result"
    }
   ],
   "source": [
    "x[2]"
   ]
  },
  {
   "cell_type": "code",
   "execution_count": 179,
   "id": "11eee4b3-09ac-481f-9161-1e33db0a7fd0",
   "metadata": {},
   "outputs": [
    {
     "data": {
      "text/plain": [
       "(int, float, complex, str)"
      ]
     },
     "execution_count": 179,
     "metadata": {},
     "output_type": "execute_result"
    }
   ],
   "source": [
    "type(x[0]),type(x[1]),type(x[2]),type(x[3])"
   ]
  },
  {
   "cell_type": "code",
   "execution_count": 180,
   "id": "0f2c6a7d-eb92-44be-9f24-814cd1b2b0ab",
   "metadata": {},
   "outputs": [],
   "source": [
    "x=['data science','data analytics']"
   ]
  },
  {
   "cell_type": "code",
   "execution_count": 181,
   "id": "165105d2-8c77-4285-a993-975795bd3d1e",
   "metadata": {},
   "outputs": [
    {
     "data": {
      "text/plain": [
       "['data science', 'data analytics']"
      ]
     },
     "execution_count": 181,
     "metadata": {},
     "output_type": "execute_result"
    }
   ],
   "source": [
    "x"
   ]
  },
  {
   "cell_type": "code",
   "execution_count": 184,
   "id": "beed20ee-10a9-42bd-8d8f-7a36fc327c91",
   "metadata": {},
   "outputs": [
    {
     "data": {
      "text/plain": [
       "'nc'"
      ]
     },
     "execution_count": 184,
     "metadata": {},
     "output_type": "execute_result"
    }
   ],
   "source": [
    "x[0][-3:-1]"
   ]
  },
  {
   "cell_type": "code",
   "execution_count": 186,
   "id": "b59a6b87-b97d-475c-9015-dadf7b580646",
   "metadata": {},
   "outputs": [
    {
     "data": {
      "text/plain": [
       "[1, 'data', 3, 4, [1, 2, 3, 4]]"
      ]
     },
     "execution_count": 186,
     "metadata": {},
     "output_type": "execute_result"
    }
   ],
   "source": [
    "[1,\"data\",3,4,[1,2,3,4]] #nested list  "
   ]
  },
  {
   "cell_type": "code",
   "execution_count": null,
   "id": "b7e32983-2baf-4512-a457-c8edb086a782",
   "metadata": {},
   "outputs": [],
   "source": []
  },
  {
   "cell_type": "code",
   "execution_count": 202,
   "id": "b90e1885-07f7-4d23-9571-24dd980ae4cd",
   "metadata": {},
   "outputs": [],
   "source": [
    "class_groups = [\n",
    "    [\"arav\", \"vivin\"],\n",
    "    [\"kavya\", \"ishitha\"],\n",
    "    [\"ananya\", \"rohan\"]\n",
    "]"
   ]
  },
  {
   "cell_type": "code",
   "execution_count": 203,
   "id": "5cbd0cd3-3324-493a-ab8b-bcbc6ad27439",
   "metadata": {},
   "outputs": [
    {
     "data": {
      "text/plain": [
       "[['arav', 'vivin'], ['kavya', 'ishitha'], ['ananya', 'rohan']]"
      ]
     },
     "execution_count": 203,
     "metadata": {},
     "output_type": "execute_result"
    }
   ],
   "source": [
    "class_groups"
   ]
  },
  {
   "cell_type": "code",
   "execution_count": 208,
   "id": "7cac7a0e-4b7a-45d3-9525-8eee37aef595",
   "metadata": {},
   "outputs": [
    {
     "data": {
      "text/plain": [
       "['ananya', 'rohan']"
      ]
     },
     "execution_count": 208,
     "metadata": {},
     "output_type": "execute_result"
    }
   ],
   "source": [
    "class_groups[2]"
   ]
  },
  {
   "cell_type": "code",
   "execution_count": 209,
   "id": "a3246217-1835-4ffc-a2ec-2a8b306d7db9",
   "metadata": {},
   "outputs": [
    {
     "data": {
      "text/plain": [
       "'ananya'"
      ]
     },
     "execution_count": 209,
     "metadata": {},
     "output_type": "execute_result"
    }
   ],
   "source": [
    "class_groups[2][0]"
   ]
  },
  {
   "cell_type": "code",
   "execution_count": 210,
   "id": "2c3f221d-acf9-484c-9d3a-8cd2522a03d4",
   "metadata": {},
   "outputs": [],
   "source": [
    "list1=[1,2,3,4,5]"
   ]
  },
  {
   "cell_type": "code",
   "execution_count": 212,
   "id": "5d70190d-d041-4060-b93b-a8e7201e3f88",
   "metadata": {},
   "outputs": [],
   "source": [
    "list1.append(10)   # it will add 10 at last"
   ]
  },
  {
   "cell_type": "code",
   "execution_count": 213,
   "id": "161f667c-0453-4e07-835e-85bf6ed1a9e3",
   "metadata": {},
   "outputs": [
    {
     "data": {
      "text/plain": [
       "[1, 2, 3, 4, 5, 10]"
      ]
     },
     "execution_count": 213,
     "metadata": {},
     "output_type": "execute_result"
    }
   ],
   "source": [
    "list1"
   ]
  },
  {
   "cell_type": "code",
   "execution_count": 214,
   "id": "5fc2aa88-e623-4bf2-b293-40e155c58b69",
   "metadata": {},
   "outputs": [],
   "source": [
    "list1.insert(2,100)   # after 2 it will add 100"
   ]
  },
  {
   "cell_type": "code",
   "execution_count": 215,
   "id": "3c2beadf-25ba-42d8-85b9-70a0372b278d",
   "metadata": {},
   "outputs": [
    {
     "data": {
      "text/plain": [
       "[1, 2, 100, 3, 4, 5, 10]"
      ]
     },
     "execution_count": 215,
     "metadata": {},
     "output_type": "execute_result"
    }
   ],
   "source": [
    "list1"
   ]
  },
  {
   "cell_type": "code",
   "execution_count": 217,
   "id": "1db24cdc-0bc0-4fbf-b6e8-2e8fe794da84",
   "metadata": {},
   "outputs": [],
   "source": [
    "list1.insert(2,'data')"
   ]
  },
  {
   "cell_type": "code",
   "execution_count": 218,
   "id": "437cd2fe-c6bd-4c66-8747-1f4c7e5ba333",
   "metadata": {},
   "outputs": [
    {
     "data": {
      "text/plain": [
       "[1, 2, 'data', 100, 3, 4, 5, 10]"
      ]
     },
     "execution_count": 218,
     "metadata": {},
     "output_type": "execute_result"
    }
   ],
   "source": [
    "list1"
   ]
  },
  {
   "cell_type": "code",
   "execution_count": 220,
   "id": "4e2c1df7-4992-47f6-b6fa-778075cd7e35",
   "metadata": {},
   "outputs": [
    {
     "data": {
      "text/plain": [
       "'data'"
      ]
     },
     "execution_count": 220,
     "metadata": {},
     "output_type": "execute_result"
    }
   ],
   "source": [
    "list1.pop(2) # it will remove 2nd position value"
   ]
  },
  {
   "cell_type": "code",
   "execution_count": 221,
   "id": "dcf7e03e-b2e7-46db-8ebe-870fb3669afd",
   "metadata": {},
   "outputs": [
    {
     "data": {
      "text/plain": [
       "[1, 2, 100, 3, 4, 5, 10]"
      ]
     },
     "execution_count": 221,
     "metadata": {},
     "output_type": "execute_result"
    }
   ],
   "source": [
    "list1"
   ]
  },
  {
   "cell_type": "code",
   "execution_count": 224,
   "id": "914cca74-0037-4e3f-9aeb-7ef4a949fb68",
   "metadata": {},
   "outputs": [
    {
     "ename": "NameError",
     "evalue": "name 'list1' is not defined",
     "output_type": "error",
     "traceback": [
      "\u001b[31m---------------------------------------------------------------------------\u001b[39m",
      "\u001b[31mNameError\u001b[39m                                 Traceback (most recent call last)",
      "\u001b[36mCell\u001b[39m\u001b[36m \u001b[39m\u001b[32mIn[224]\u001b[39m\u001b[32m, line 1\u001b[39m\n\u001b[32m----> \u001b[39m\u001b[32m1\u001b[39m \u001b[38;5;28;01mdel\u001b[39;00m \u001b[43mlist1\u001b[49m\n",
      "\u001b[31mNameError\u001b[39m: name 'list1' is not defined"
     ]
    }
   ],
   "source": [
    "del list1  # it will complietley  del list1 object"
   ]
  },
  {
   "cell_type": "code",
   "execution_count": 233,
   "id": "320624d9-6ef1-493b-83ca-69db7dab608a",
   "metadata": {},
   "outputs": [],
   "source": [
    "list1=[1,2,3,4,5,2,2,3,4,2,5]"
   ]
  },
  {
   "cell_type": "code",
   "execution_count": 234,
   "id": "4714dd68-25b1-456e-acd7-a187797a94f5",
   "metadata": {},
   "outputs": [
    {
     "data": {
      "text/plain": [
       "[1, 2, 3, 4, 5, 2, 2, 3, 4, 2, 5]"
      ]
     },
     "execution_count": 234,
     "metadata": {},
     "output_type": "execute_result"
    }
   ],
   "source": [
    "list1"
   ]
  },
  {
   "cell_type": "code",
   "execution_count": 235,
   "id": "9a48e75a-b1d7-4cf8-b8af-67b012a3898b",
   "metadata": {},
   "outputs": [
    {
     "data": {
      "text/plain": [
       "4"
      ]
     },
     "execution_count": 235,
     "metadata": {},
     "output_type": "execute_result"
    }
   ],
   "source": [
    "list1.count(2)  # it will count 2 value . how many times 2 is present"
   ]
  },
  {
   "cell_type": "code",
   "execution_count": 238,
   "id": "6ba62f4e-7464-4a49-ad41-46822f5938a2",
   "metadata": {},
   "outputs": [
    {
     "data": {
      "text/plain": [
       "1"
      ]
     },
     "execution_count": 238,
     "metadata": {},
     "output_type": "execute_result"
    }
   ],
   "source": [
    "list1.index(2) # it will print 1st occurance  of 2"
   ]
  },
  {
   "cell_type": "code",
   "execution_count": 240,
   "id": "0a87edb7-fccb-409e-8e8e-36cab8897cb2",
   "metadata": {},
   "outputs": [],
   "source": [
    "list1.remove(4)  # it will remove specified value"
   ]
  },
  {
   "cell_type": "code",
   "execution_count": 241,
   "id": "9bbf3275-c2fd-486c-bc61-81ad4feee241",
   "metadata": {},
   "outputs": [
    {
     "data": {
      "text/plain": [
       "[1, 2, 3, 5, 2, 2, 3, 4, 2, 5]"
      ]
     },
     "execution_count": 241,
     "metadata": {},
     "output_type": "execute_result"
    }
   ],
   "source": [
    "list1"
   ]
  },
  {
   "cell_type": "code",
   "execution_count": 242,
   "id": "5d15738c-ef8c-4121-b8d8-cb2e0d4da15f",
   "metadata": {},
   "outputs": [],
   "source": [
    "list1.clear()  # it will clear inside data"
   ]
  },
  {
   "cell_type": "code",
   "execution_count": 243,
   "id": "c2d89ef1-d1be-487e-954e-56de5f3ff6cb",
   "metadata": {},
   "outputs": [
    {
     "data": {
      "text/plain": [
       "[]"
      ]
     },
     "execution_count": 243,
     "metadata": {},
     "output_type": "execute_result"
    }
   ],
   "source": [
    "list1"
   ]
  },
  {
   "cell_type": "code",
   "execution_count": 244,
   "id": "e3c8618a-caef-4117-a0a2-4b75e56d4b6d",
   "metadata": {},
   "outputs": [],
   "source": [
    "list1=[1,2,3,4,5,6]"
   ]
  },
  {
   "cell_type": "code",
   "execution_count": 245,
   "id": "92ddef03-7026-4d9d-95cc-5c645ee507b8",
   "metadata": {},
   "outputs": [],
   "source": [
    "list1.reverse()   # it will reverse the data inside list"
   ]
  },
  {
   "cell_type": "code",
   "execution_count": 246,
   "id": "687fd7f2-0a4f-4064-ab11-40aaa07b3fb7",
   "metadata": {},
   "outputs": [
    {
     "data": {
      "text/plain": [
       "[6, 5, 4, 3, 2, 1]"
      ]
     },
     "execution_count": 246,
     "metadata": {},
     "output_type": "execute_result"
    }
   ],
   "source": [
    "list1"
   ]
  },
  {
   "cell_type": "code",
   "execution_count": 247,
   "id": "b62bafb3-e9f5-46f3-a475-3da8bff7b9ea",
   "metadata": {},
   "outputs": [],
   "source": [
    "list1=[22,23,43,11]"
   ]
  },
  {
   "cell_type": "code",
   "execution_count": 248,
   "id": "ff37cb64-b024-47c1-af3d-8309298c525d",
   "metadata": {},
   "outputs": [
    {
     "data": {
      "text/plain": [
       "[22, 23, 43, 11]"
      ]
     },
     "execution_count": 248,
     "metadata": {},
     "output_type": "execute_result"
    }
   ],
   "source": [
    "list1"
   ]
  },
  {
   "cell_type": "code",
   "execution_count": 250,
   "id": "382a5b71-f55d-49ba-8bf3-1e1dce097487",
   "metadata": {},
   "outputs": [],
   "source": [
    "list1.sort()"
   ]
  },
  {
   "cell_type": "code",
   "execution_count": 251,
   "id": "dfdff77d-8531-4000-8038-1fc0b7c20e2d",
   "metadata": {},
   "outputs": [
    {
     "data": {
      "text/plain": [
       "[11, 22, 23, 43]"
      ]
     },
     "execution_count": 251,
     "metadata": {},
     "output_type": "execute_result"
    }
   ],
   "source": [
    "list1"
   ]
  },
  {
   "cell_type": "code",
   "execution_count": 277,
   "id": "736feda4-0016-4d12-a3e0-b827d896119f",
   "metadata": {},
   "outputs": [],
   "source": [
    "list1=[\"Anc\",\"xyz\",\"cde\"]"
   ]
  },
  {
   "cell_type": "code",
   "execution_count": 278,
   "id": "64f25d32-4cda-4ef9-8925-bc74c63ac782",
   "metadata": {},
   "outputs": [],
   "source": [
    "list1.sort()     # it will sort alphabitically"
   ]
  },
  {
   "cell_type": "code",
   "execution_count": 279,
   "id": "bd70dbe0-81b6-41d9-8cce-8650c246bd6c",
   "metadata": {},
   "outputs": [
    {
     "data": {
      "text/plain": [
       "['Anc', 'cde', 'xyz']"
      ]
     },
     "execution_count": 279,
     "metadata": {},
     "output_type": "execute_result"
    }
   ],
   "source": [
    "list1"
   ]
  },
  {
   "cell_type": "code",
   "execution_count": 280,
   "id": "11a91aaf-e1b9-418e-b32a-e510c17a7c21",
   "metadata": {},
   "outputs": [],
   "source": [
    "list1=['abc','ABC','xyz']"
   ]
  },
  {
   "cell_type": "code",
   "execution_count": 283,
   "id": "44b8888a-b6ec-4647-bf07-1074832653d9",
   "metadata": {},
   "outputs": [],
   "source": [
    "list1.sort()   # it will sort alphabitically, caps will be 1st"
   ]
  },
  {
   "cell_type": "code",
   "execution_count": 284,
   "id": "87af70df-2348-46d6-9252-9450c0900367",
   "metadata": {},
   "outputs": [
    {
     "data": {
      "text/plain": [
       "['ABC', 'abc', 'xyz']"
      ]
     },
     "execution_count": 284,
     "metadata": {},
     "output_type": "execute_result"
    }
   ],
   "source": [
    "list1"
   ]
  },
  {
   "cell_type": "code",
   "execution_count": 288,
   "id": "d09e4768-1a72-4ad2-acbe-12af807a735f",
   "metadata": {},
   "outputs": [],
   "source": [
    "list1=['abc','cde','efg']"
   ]
  },
  {
   "cell_type": "code",
   "execution_count": 292,
   "id": "d5412d24-9095-49a8-aa0d-bea5fe6741db",
   "metadata": {},
   "outputs": [],
   "source": [
    "list1.sort(reverse=True)"
   ]
  },
  {
   "cell_type": "code",
   "execution_count": 293,
   "id": "54c039f1-9407-4aba-9dd8-a7473d2938a2",
   "metadata": {},
   "outputs": [
    {
     "data": {
      "text/plain": [
       "['efg', 'cde', 'abc']"
      ]
     },
     "execution_count": 293,
     "metadata": {},
     "output_type": "execute_result"
    }
   ],
   "source": [
    "list1"
   ]
  },
  {
   "cell_type": "code",
   "execution_count": 294,
   "id": "5c2dac27-368d-4a75-b4ab-b45e69befc94",
   "metadata": {},
   "outputs": [],
   "source": [
    "list1=[33,55,62,99]"
   ]
  },
  {
   "cell_type": "code",
   "execution_count": 296,
   "id": "d68f754d-22fe-4bae-87ef-2593d9dafd5d",
   "metadata": {},
   "outputs": [],
   "source": [
    "list1.sort()"
   ]
  },
  {
   "cell_type": "code",
   "execution_count": 297,
   "id": "8ed063ed-94af-436d-9c2a-a7003e2f6cb5",
   "metadata": {},
   "outputs": [
    {
     "data": {
      "text/plain": [
       "[33, 55, 62, 99]"
      ]
     },
     "execution_count": 297,
     "metadata": {},
     "output_type": "execute_result"
    }
   ],
   "source": [
    "list1"
   ]
  },
  {
   "cell_type": "code",
   "execution_count": 299,
   "id": "f6ef1d04-b1c3-4ac4-b1b5-045c48f4e7d7",
   "metadata": {},
   "outputs": [],
   "source": [
    "list1.sort(reverse=True)"
   ]
  },
  {
   "cell_type": "code",
   "execution_count": 300,
   "id": "bd81ea14-3cc9-4b54-b686-3f5f4a0bf7d2",
   "metadata": {},
   "outputs": [
    {
     "data": {
      "text/plain": [
       "[99, 62, 55, 33]"
      ]
     },
     "execution_count": 300,
     "metadata": {},
     "output_type": "execute_result"
    }
   ],
   "source": [
    "list1"
   ]
  },
  {
   "cell_type": "code",
   "execution_count": null,
   "id": "81312083-c7f2-494e-bd2f-53565479e574",
   "metadata": {},
   "outputs": [],
   "source": [
    "# shallow copying  if u change value of y it will reflect x"
   ]
  },
  {
   "cell_type": "code",
   "execution_count": 305,
   "id": "8a1d5ddd-d5a5-4353-8907-0e57aa0d197b",
   "metadata": {},
   "outputs": [],
   "source": [
    "x=[1,2,3,4,5]"
   ]
  },
  {
   "cell_type": "code",
   "execution_count": 306,
   "id": "c3d6742f-ca00-401a-aa09-d4793b5904b5",
   "metadata": {},
   "outputs": [
    {
     "data": {
      "text/plain": [
       "[1, 2, 3, 4, 5]"
      ]
     },
     "execution_count": 306,
     "metadata": {},
     "output_type": "execute_result"
    }
   ],
   "source": [
    "x"
   ]
  },
  {
   "cell_type": "code",
   "execution_count": null,
   "id": "57793c50-0844-400d-89c3-d7a647647f1a",
   "metadata": {},
   "outputs": [],
   "source": []
  },
  {
   "cell_type": "code",
   "execution_count": 307,
   "id": "989594c8-24be-492c-8cb3-f1c1a3e58818",
   "metadata": {},
   "outputs": [],
   "source": [
    "y=x\n"
   ]
  },
  {
   "cell_type": "code",
   "execution_count": 308,
   "id": "1f0b401d-d6c7-49ff-80e8-7f714b8c2efc",
   "metadata": {},
   "outputs": [
    {
     "data": {
      "text/plain": [
       "[1, 2, 3, 4, 5]"
      ]
     },
     "execution_count": 308,
     "metadata": {},
     "output_type": "execute_result"
    }
   ],
   "source": [
    "y"
   ]
  },
  {
   "cell_type": "code",
   "execution_count": 309,
   "id": "9a1b425e-9504-44b8-b731-ed4eb8c9663d",
   "metadata": {},
   "outputs": [],
   "source": [
    "y[2]=22"
   ]
  },
  {
   "cell_type": "code",
   "execution_count": 310,
   "id": "29f080bc-1dec-432d-88cf-d5fedf9e4b4e",
   "metadata": {},
   "outputs": [
    {
     "data": {
      "text/plain": [
       "[1, 2, 22, 4, 5]"
      ]
     },
     "execution_count": 310,
     "metadata": {},
     "output_type": "execute_result"
    }
   ],
   "source": [
    "y"
   ]
  },
  {
   "cell_type": "code",
   "execution_count": 311,
   "id": "8ecffa22-6d59-43f2-9f15-b69996936265",
   "metadata": {},
   "outputs": [
    {
     "data": {
      "text/plain": [
       "[1, 2, 22, 4, 5]"
      ]
     },
     "execution_count": 311,
     "metadata": {},
     "output_type": "execute_result"
    }
   ],
   "source": [
    "x"
   ]
  },
  {
   "cell_type": "code",
   "execution_count": null,
   "id": "724b75e0-4fd4-4c75-98bd-46579d5c0ce4",
   "metadata": {},
   "outputs": [],
   "source": []
  },
  {
   "cell_type": "code",
   "execution_count": 312,
   "id": "00e7b037-4822-4e17-9a48-b913768b0cd8",
   "metadata": {},
   "outputs": [],
   "source": [
    "#deep copying"
   ]
  },
  {
   "cell_type": "code",
   "execution_count": 313,
   "id": "4869516e-130a-408c-baf2-2fa3dae107f5",
   "metadata": {},
   "outputs": [],
   "source": [
    "x=[1,2,3,4,5]"
   ]
  },
  {
   "cell_type": "code",
   "execution_count": 314,
   "id": "e6085390-99ad-4cea-9173-97741b8d22bf",
   "metadata": {},
   "outputs": [
    {
     "data": {
      "text/plain": [
       "[1, 2, 3, 4, 5]"
      ]
     },
     "execution_count": 314,
     "metadata": {},
     "output_type": "execute_result"
    }
   ],
   "source": [
    "x"
   ]
  },
  {
   "cell_type": "code",
   "execution_count": 315,
   "id": "f0cd6f19-4b7c-40e7-8d5e-a22a9d350676",
   "metadata": {},
   "outputs": [],
   "source": [
    "y=x.copy()"
   ]
  },
  {
   "cell_type": "code",
   "execution_count": 316,
   "id": "68e51dc8-9d96-40e3-9e70-2952255da160",
   "metadata": {},
   "outputs": [
    {
     "data": {
      "text/plain": [
       "[1, 2, 3, 4, 5]"
      ]
     },
     "execution_count": 316,
     "metadata": {},
     "output_type": "execute_result"
    }
   ],
   "source": [
    "y"
   ]
  },
  {
   "cell_type": "code",
   "execution_count": 317,
   "id": "2f58206e-ee6a-4652-88e5-f037cbfdcbba",
   "metadata": {},
   "outputs": [],
   "source": [
    "y[2]=33"
   ]
  },
  {
   "cell_type": "code",
   "execution_count": 318,
   "id": "96e2b72c-032a-435e-8cce-489a5ddf1a1e",
   "metadata": {},
   "outputs": [
    {
     "data": {
      "text/plain": [
       "[1, 2, 33, 4, 5]"
      ]
     },
     "execution_count": 318,
     "metadata": {},
     "output_type": "execute_result"
    }
   ],
   "source": [
    "y"
   ]
  },
  {
   "cell_type": "code",
   "execution_count": 319,
   "id": "65950ea7-d0b0-48af-b39e-e85f5fa45ad6",
   "metadata": {},
   "outputs": [
    {
     "data": {
      "text/plain": [
       "[1, 2, 3, 4, 5]"
      ]
     },
     "execution_count": 319,
     "metadata": {},
     "output_type": "execute_result"
    }
   ],
   "source": [
    "x"
   ]
  },
  {
   "cell_type": "code",
   "execution_count": null,
   "id": "7c59666f-caa9-43af-8871-25b9c52333dd",
   "metadata": {},
   "outputs": [],
   "source": []
  }
 ],
 "metadata": {
  "kernelspec": {
   "display_name": "Python 3 (ipykernel)",
   "language": "python",
   "name": "python3"
  },
  "language_info": {
   "codemirror_mode": {
    "name": "ipython",
    "version": 3
   },
   "file_extension": ".py",
   "mimetype": "text/x-python",
   "name": "python",
   "nbconvert_exporter": "python",
   "pygments_lexer": "ipython3",
   "version": "3.13.2"
  }
 },
 "nbformat": 4,
 "nbformat_minor": 5
}
